{
  "nbformat": 4,
  "nbformat_minor": 0,
  "metadata": {
    "kernelspec": {
      "display_name": "Python 3",
      "language": "python",
      "name": "python3"
    },
    "language_info": {
      "codemirror_mode": {
        "name": "ipython",
        "version": 3
      },
      "file_extension": ".py",
      "mimetype": "text/x-python",
      "name": "python",
      "nbconvert_exporter": "python",
      "pygments_lexer": "ipython3",
      "version": "3.6.6"
    },
    "colab": {
      "name": "Copy of Telecom Churn Analysis - Capstone Project.ipynb",
      "provenance": [],
      "collapsed_sections": [],
      "include_colab_link": true
    }
  },
  "cells": [
    {
      "cell_type": "markdown",
      "metadata": {
        "id": "view-in-github",
        "colab_type": "text"
      },
      "source": [
        "<a href=\"https://colab.research.google.com/github/harrysharma/Telecom-Churn-Analysis/blob/main/Copy_of_Telecom_Churn_Analysis_Capstone_Project.ipynb\" target=\"_parent\"><img src=\"https://colab.research.google.com/assets/colab-badge.svg\" alt=\"Open In Colab\"/></a>"
      ]
    },
    {
      "cell_type": "markdown",
      "metadata": {
        "id": "Y06xIdG26kRF"
      },
      "source": [
        "## <b> Orange S.A., formerly France Télécom S.A., is a French multinational telecommunications corporation. The Orange Telecom's Churn Dataset, consists of cleaned customer activity data (features), along with a churn label specifying whether a customer canceled the subscription.\n",
        "\n",
        "## <b> Explore and analyze the data to discover key factors responsible for customer churn and come up with ways/recommendations to ensure customer retention. </b>"
      ]
    },
    {
      "cell_type": "code",
      "metadata": {
        "id": "lrSjRGdlCIGj"
      },
      "source": [
        "import pandas as pd\n",
        "import numpy as np\n",
        "import matplotlib.pyplot as plt\n",
        "import seaborn as sns\n",
        "%matplotlib inline"
      ],
      "execution_count": 2,
      "outputs": []
    },
    {
      "cell_type": "code",
      "metadata": {
        "id": "PgYqjWjlBqY0",
        "colab": {
          "base_uri": "https://localhost:8080/"
        },
        "outputId": "1ddc3ee9-8d49-4efc-a35c-d388ee8b0b7f"
      },
      "source": [
        "from google.colab import drive\n",
        "drive.mount('/content/drive')"
      ],
      "execution_count": 3,
      "outputs": [
        {
          "output_type": "stream",
          "text": [
            "Mounted at /content/drive\n"
          ],
          "name": "stdout"
        }
      ]
    },
    {
      "cell_type": "code",
      "metadata": {
        "id": "dByMsuzT8Tnw"
      },
      "source": [
        "filepath='/content/drive/MyDrive/AlmaBetter/Python for Data Science/Capston Project/Copy of Telecom Churn.csv'\n",
        "tele_df=pd.read_csv(filepath)"
      ],
      "execution_count": 4,
      "outputs": []
    },
    {
      "cell_type": "code",
      "metadata": {
        "id": "zFSNuf3BvTDw"
      },
      "source": [
        ""
      ],
      "execution_count": null,
      "outputs": []
    },
    {
      "cell_type": "code",
      "metadata": {
        "id": "j2shONLxCbH2",
        "colab": {
          "base_uri": "https://localhost:8080/",
          "height": 236
        },
        "outputId": "a4f065dc-ed0a-43c9-ad52-6ffeac8d9016"
      },
      "source": [
        "tele_df.head()"
      ],
      "execution_count": 30,
      "outputs": [
        {
          "output_type": "execute_result",
          "data": {
            "text/html": [
              "<div>\n",
              "<style scoped>\n",
              "    .dataframe tbody tr th:only-of-type {\n",
              "        vertical-align: middle;\n",
              "    }\n",
              "\n",
              "    .dataframe tbody tr th {\n",
              "        vertical-align: top;\n",
              "    }\n",
              "\n",
              "    .dataframe thead th {\n",
              "        text-align: right;\n",
              "    }\n",
              "</style>\n",
              "<table border=\"1\" class=\"dataframe\">\n",
              "  <thead>\n",
              "    <tr style=\"text-align: right;\">\n",
              "      <th></th>\n",
              "      <th>State</th>\n",
              "      <th>Account length</th>\n",
              "      <th>Area code</th>\n",
              "      <th>International plan</th>\n",
              "      <th>Voice mail plan</th>\n",
              "      <th>Number vmail messages</th>\n",
              "      <th>Total day minutes</th>\n",
              "      <th>Total day calls</th>\n",
              "      <th>Total day charge</th>\n",
              "      <th>Total eve minutes</th>\n",
              "      <th>Total eve calls</th>\n",
              "      <th>Total eve charge</th>\n",
              "      <th>Total night minutes</th>\n",
              "      <th>Total night calls</th>\n",
              "      <th>Total night charge</th>\n",
              "      <th>Total intl minutes</th>\n",
              "      <th>Total intl calls</th>\n",
              "      <th>Total intl charge</th>\n",
              "      <th>Customer service calls</th>\n",
              "      <th>Churn</th>\n",
              "    </tr>\n",
              "  </thead>\n",
              "  <tbody>\n",
              "    <tr>\n",
              "      <th>0</th>\n",
              "      <td>KS</td>\n",
              "      <td>128</td>\n",
              "      <td>415</td>\n",
              "      <td>No</td>\n",
              "      <td>Yes</td>\n",
              "      <td>25</td>\n",
              "      <td>265.1</td>\n",
              "      <td>110</td>\n",
              "      <td>45.07</td>\n",
              "      <td>197.4</td>\n",
              "      <td>99</td>\n",
              "      <td>16.78</td>\n",
              "      <td>244.7</td>\n",
              "      <td>91</td>\n",
              "      <td>11.01</td>\n",
              "      <td>10.0</td>\n",
              "      <td>3</td>\n",
              "      <td>2.70</td>\n",
              "      <td>1</td>\n",
              "      <td>False</td>\n",
              "    </tr>\n",
              "    <tr>\n",
              "      <th>1</th>\n",
              "      <td>OH</td>\n",
              "      <td>107</td>\n",
              "      <td>415</td>\n",
              "      <td>No</td>\n",
              "      <td>Yes</td>\n",
              "      <td>26</td>\n",
              "      <td>161.6</td>\n",
              "      <td>123</td>\n",
              "      <td>27.47</td>\n",
              "      <td>195.5</td>\n",
              "      <td>103</td>\n",
              "      <td>16.62</td>\n",
              "      <td>254.4</td>\n",
              "      <td>103</td>\n",
              "      <td>11.45</td>\n",
              "      <td>13.7</td>\n",
              "      <td>3</td>\n",
              "      <td>3.70</td>\n",
              "      <td>1</td>\n",
              "      <td>False</td>\n",
              "    </tr>\n",
              "    <tr>\n",
              "      <th>2</th>\n",
              "      <td>NJ</td>\n",
              "      <td>137</td>\n",
              "      <td>415</td>\n",
              "      <td>No</td>\n",
              "      <td>No</td>\n",
              "      <td>0</td>\n",
              "      <td>243.4</td>\n",
              "      <td>114</td>\n",
              "      <td>41.38</td>\n",
              "      <td>121.2</td>\n",
              "      <td>110</td>\n",
              "      <td>10.30</td>\n",
              "      <td>162.6</td>\n",
              "      <td>104</td>\n",
              "      <td>7.32</td>\n",
              "      <td>12.2</td>\n",
              "      <td>5</td>\n",
              "      <td>3.29</td>\n",
              "      <td>0</td>\n",
              "      <td>False</td>\n",
              "    </tr>\n",
              "    <tr>\n",
              "      <th>3</th>\n",
              "      <td>OH</td>\n",
              "      <td>84</td>\n",
              "      <td>408</td>\n",
              "      <td>Yes</td>\n",
              "      <td>No</td>\n",
              "      <td>0</td>\n",
              "      <td>299.4</td>\n",
              "      <td>71</td>\n",
              "      <td>50.90</td>\n",
              "      <td>61.9</td>\n",
              "      <td>88</td>\n",
              "      <td>5.26</td>\n",
              "      <td>196.9</td>\n",
              "      <td>89</td>\n",
              "      <td>8.86</td>\n",
              "      <td>6.6</td>\n",
              "      <td>7</td>\n",
              "      <td>1.78</td>\n",
              "      <td>2</td>\n",
              "      <td>False</td>\n",
              "    </tr>\n",
              "    <tr>\n",
              "      <th>4</th>\n",
              "      <td>OK</td>\n",
              "      <td>75</td>\n",
              "      <td>415</td>\n",
              "      <td>Yes</td>\n",
              "      <td>No</td>\n",
              "      <td>0</td>\n",
              "      <td>166.7</td>\n",
              "      <td>113</td>\n",
              "      <td>28.34</td>\n",
              "      <td>148.3</td>\n",
              "      <td>122</td>\n",
              "      <td>12.61</td>\n",
              "      <td>186.9</td>\n",
              "      <td>121</td>\n",
              "      <td>8.41</td>\n",
              "      <td>10.1</td>\n",
              "      <td>3</td>\n",
              "      <td>2.73</td>\n",
              "      <td>3</td>\n",
              "      <td>False</td>\n",
              "    </tr>\n",
              "  </tbody>\n",
              "</table>\n",
              "</div>"
            ],
            "text/plain": [
              "  State  Account length  ...  Customer service calls  Churn\n",
              "0    KS             128  ...                       1  False\n",
              "1    OH             107  ...                       1  False\n",
              "2    NJ             137  ...                       0  False\n",
              "3    OH              84  ...                       2  False\n",
              "4    OK              75  ...                       3  False\n",
              "\n",
              "[5 rows x 20 columns]"
            ]
          },
          "metadata": {
            "tags": []
          },
          "execution_count": 30
        }
      ]
    },
    {
      "cell_type": "markdown",
      "metadata": {
        "id": "6am7pXJqEfEj"
      },
      "source": [
        "# Find area wise churn distribution , plot bar graph corresponding to it.\n"
      ]
    },
    {
      "cell_type": "code",
      "metadata": {
        "id": "zHLkQHgcDHmz"
      },
      "source": [
        "df1=tele_df[tele_df['Churn']==True].groupby(['State','Churn'],as_index=False).Churn.count()"
      ],
      "execution_count": 46,
      "outputs": []
    },
    {
      "cell_type": "code",
      "metadata": {
        "colab": {
          "base_uri": "https://localhost:8080/",
          "height": 1000
        },
        "id": "Wq1iE3N76wRT",
        "outputId": "9fc1e49d-c41a-4ebb-c88e-cb0b8195cc81"
      },
      "source": [
        "df1.sort_values(by='Churn')"
      ],
      "execution_count": 47,
      "outputs": [
        {
          "output_type": "execute_result",
          "data": {
            "text/html": [
              "<div>\n",
              "<style scoped>\n",
              "    .dataframe tbody tr th:only-of-type {\n",
              "        vertical-align: middle;\n",
              "    }\n",
              "\n",
              "    .dataframe tbody tr th {\n",
              "        vertical-align: top;\n",
              "    }\n",
              "\n",
              "    .dataframe thead th {\n",
              "        text-align: right;\n",
              "    }\n",
              "</style>\n",
              "<table border=\"1\" class=\"dataframe\">\n",
              "  <thead>\n",
              "    <tr style=\"text-align: right;\">\n",
              "      <th></th>\n",
              "      <th>State</th>\n",
              "      <th>Churn</th>\n",
              "    </tr>\n",
              "  </thead>\n",
              "  <tbody>\n",
              "    <tr>\n",
              "      <th>0</th>\n",
              "      <td>AK</td>\n",
              "      <td>3</td>\n",
              "    </tr>\n",
              "    <tr>\n",
              "      <th>12</th>\n",
              "      <td>IA</td>\n",
              "      <td>3</td>\n",
              "    </tr>\n",
              "    <tr>\n",
              "      <th>11</th>\n",
              "      <td>HI</td>\n",
              "      <td>3</td>\n",
              "    </tr>\n",
              "    <tr>\n",
              "      <th>3</th>\n",
              "      <td>AZ</td>\n",
              "      <td>4</td>\n",
              "    </tr>\n",
              "    <tr>\n",
              "      <th>18</th>\n",
              "      <td>LA</td>\n",
              "      <td>4</td>\n",
              "    </tr>\n",
              "    <tr>\n",
              "      <th>29</th>\n",
              "      <td>NE</td>\n",
              "      <td>5</td>\n",
              "    </tr>\n",
              "    <tr>\n",
              "      <th>45</th>\n",
              "      <td>VA</td>\n",
              "      <td>5</td>\n",
              "    </tr>\n",
              "    <tr>\n",
              "      <th>42</th>\n",
              "      <td>TN</td>\n",
              "      <td>5</td>\n",
              "    </tr>\n",
              "    <tr>\n",
              "      <th>7</th>\n",
              "      <td>DC</td>\n",
              "      <td>5</td>\n",
              "    </tr>\n",
              "    <tr>\n",
              "      <th>14</th>\n",
              "      <td>IL</td>\n",
              "      <td>5</td>\n",
              "    </tr>\n",
              "    <tr>\n",
              "      <th>32</th>\n",
              "      <td>NM</td>\n",
              "      <td>6</td>\n",
              "    </tr>\n",
              "    <tr>\n",
              "      <th>39</th>\n",
              "      <td>RI</td>\n",
              "      <td>6</td>\n",
              "    </tr>\n",
              "    <tr>\n",
              "      <th>28</th>\n",
              "      <td>ND</td>\n",
              "      <td>6</td>\n",
              "    </tr>\n",
              "    <tr>\n",
              "      <th>48</th>\n",
              "      <td>WI</td>\n",
              "      <td>7</td>\n",
              "    </tr>\n",
              "    <tr>\n",
              "      <th>24</th>\n",
              "      <td>MO</td>\n",
              "      <td>7</td>\n",
              "    </tr>\n",
              "    <tr>\n",
              "      <th>1</th>\n",
              "      <td>AL</td>\n",
              "      <td>8</td>\n",
              "    </tr>\n",
              "    <tr>\n",
              "      <th>10</th>\n",
              "      <td>GA</td>\n",
              "      <td>8</td>\n",
              "    </tr>\n",
              "    <tr>\n",
              "      <th>38</th>\n",
              "      <td>PA</td>\n",
              "      <td>8</td>\n",
              "    </tr>\n",
              "    <tr>\n",
              "      <th>17</th>\n",
              "      <td>KY</td>\n",
              "      <td>8</td>\n",
              "    </tr>\n",
              "    <tr>\n",
              "      <th>9</th>\n",
              "      <td>FL</td>\n",
              "      <td>8</td>\n",
              "    </tr>\n",
              "    <tr>\n",
              "      <th>41</th>\n",
              "      <td>SD</td>\n",
              "      <td>8</td>\n",
              "    </tr>\n",
              "    <tr>\n",
              "      <th>46</th>\n",
              "      <td>VT</td>\n",
              "      <td>8</td>\n",
              "    </tr>\n",
              "    <tr>\n",
              "      <th>36</th>\n",
              "      <td>OK</td>\n",
              "      <td>9</td>\n",
              "    </tr>\n",
              "    <tr>\n",
              "      <th>30</th>\n",
              "      <td>NH</td>\n",
              "      <td>9</td>\n",
              "    </tr>\n",
              "    <tr>\n",
              "      <th>50</th>\n",
              "      <td>WY</td>\n",
              "      <td>9</td>\n",
              "    </tr>\n",
              "    <tr>\n",
              "      <th>4</th>\n",
              "      <td>CA</td>\n",
              "      <td>9</td>\n",
              "    </tr>\n",
              "    <tr>\n",
              "      <th>5</th>\n",
              "      <td>CO</td>\n",
              "      <td>9</td>\n",
              "    </tr>\n",
              "    <tr>\n",
              "      <th>8</th>\n",
              "      <td>DE</td>\n",
              "      <td>9</td>\n",
              "    </tr>\n",
              "    <tr>\n",
              "      <th>13</th>\n",
              "      <td>ID</td>\n",
              "      <td>9</td>\n",
              "    </tr>\n",
              "    <tr>\n",
              "      <th>15</th>\n",
              "      <td>IN</td>\n",
              "      <td>9</td>\n",
              "    </tr>\n",
              "    <tr>\n",
              "      <th>49</th>\n",
              "      <td>WV</td>\n",
              "      <td>10</td>\n",
              "    </tr>\n",
              "    <tr>\n",
              "      <th>44</th>\n",
              "      <td>UT</td>\n",
              "      <td>10</td>\n",
              "    </tr>\n",
              "    <tr>\n",
              "      <th>35</th>\n",
              "      <td>OH</td>\n",
              "      <td>10</td>\n",
              "    </tr>\n",
              "    <tr>\n",
              "      <th>2</th>\n",
              "      <td>AR</td>\n",
              "      <td>11</td>\n",
              "    </tr>\n",
              "    <tr>\n",
              "      <th>37</th>\n",
              "      <td>OR</td>\n",
              "      <td>11</td>\n",
              "    </tr>\n",
              "    <tr>\n",
              "      <th>19</th>\n",
              "      <td>MA</td>\n",
              "      <td>11</td>\n",
              "    </tr>\n",
              "    <tr>\n",
              "      <th>27</th>\n",
              "      <td>NC</td>\n",
              "      <td>11</td>\n",
              "    </tr>\n",
              "    <tr>\n",
              "      <th>6</th>\n",
              "      <td>CT</td>\n",
              "      <td>12</td>\n",
              "    </tr>\n",
              "    <tr>\n",
              "      <th>16</th>\n",
              "      <td>KS</td>\n",
              "      <td>13</td>\n",
              "    </tr>\n",
              "    <tr>\n",
              "      <th>21</th>\n",
              "      <td>ME</td>\n",
              "      <td>13</td>\n",
              "    </tr>\n",
              "    <tr>\n",
              "      <th>33</th>\n",
              "      <td>NV</td>\n",
              "      <td>14</td>\n",
              "    </tr>\n",
              "    <tr>\n",
              "      <th>40</th>\n",
              "      <td>SC</td>\n",
              "      <td>14</td>\n",
              "    </tr>\n",
              "    <tr>\n",
              "      <th>47</th>\n",
              "      <td>WA</td>\n",
              "      <td>14</td>\n",
              "    </tr>\n",
              "    <tr>\n",
              "      <th>26</th>\n",
              "      <td>MT</td>\n",
              "      <td>14</td>\n",
              "    </tr>\n",
              "    <tr>\n",
              "      <th>25</th>\n",
              "      <td>MS</td>\n",
              "      <td>14</td>\n",
              "    </tr>\n",
              "    <tr>\n",
              "      <th>23</th>\n",
              "      <td>MN</td>\n",
              "      <td>15</td>\n",
              "    </tr>\n",
              "    <tr>\n",
              "      <th>34</th>\n",
              "      <td>NY</td>\n",
              "      <td>15</td>\n",
              "    </tr>\n",
              "    <tr>\n",
              "      <th>22</th>\n",
              "      <td>MI</td>\n",
              "      <td>16</td>\n",
              "    </tr>\n",
              "    <tr>\n",
              "      <th>20</th>\n",
              "      <td>MD</td>\n",
              "      <td>17</td>\n",
              "    </tr>\n",
              "    <tr>\n",
              "      <th>31</th>\n",
              "      <td>NJ</td>\n",
              "      <td>18</td>\n",
              "    </tr>\n",
              "    <tr>\n",
              "      <th>43</th>\n",
              "      <td>TX</td>\n",
              "      <td>18</td>\n",
              "    </tr>\n",
              "  </tbody>\n",
              "</table>\n",
              "</div>"
            ],
            "text/plain": [
              "   State  Churn\n",
              "0     AK      3\n",
              "12    IA      3\n",
              "11    HI      3\n",
              "3     AZ      4\n",
              "18    LA      4\n",
              "29    NE      5\n",
              "45    VA      5\n",
              "42    TN      5\n",
              "7     DC      5\n",
              "14    IL      5\n",
              "32    NM      6\n",
              "39    RI      6\n",
              "28    ND      6\n",
              "48    WI      7\n",
              "24    MO      7\n",
              "1     AL      8\n",
              "10    GA      8\n",
              "38    PA      8\n",
              "17    KY      8\n",
              "9     FL      8\n",
              "41    SD      8\n",
              "46    VT      8\n",
              "36    OK      9\n",
              "30    NH      9\n",
              "50    WY      9\n",
              "4     CA      9\n",
              "5     CO      9\n",
              "8     DE      9\n",
              "13    ID      9\n",
              "15    IN      9\n",
              "49    WV     10\n",
              "44    UT     10\n",
              "35    OH     10\n",
              "2     AR     11\n",
              "37    OR     11\n",
              "19    MA     11\n",
              "27    NC     11\n",
              "6     CT     12\n",
              "16    KS     13\n",
              "21    ME     13\n",
              "33    NV     14\n",
              "40    SC     14\n",
              "47    WA     14\n",
              "26    MT     14\n",
              "25    MS     14\n",
              "23    MN     15\n",
              "34    NY     15\n",
              "22    MI     16\n",
              "20    MD     17\n",
              "31    NJ     18\n",
              "43    TX     18"
            ]
          },
          "metadata": {
            "tags": []
          },
          "execution_count": 47
        }
      ]
    },
    {
      "cell_type": "code",
      "metadata": {
        "id": "YsV6VosO2CIS"
      },
      "source": [
        "df1['total_count']=tele_df.groupby('State').State.transform('count')"
      ],
      "execution_count": 48,
      "outputs": []
    },
    {
      "cell_type": "code",
      "metadata": {
        "id": "x7vPWAJy3CP4"
      },
      "source": [
        "df1['Churn']=df1['Churn']/df1['total_count']*100"
      ],
      "execution_count": 49,
      "outputs": []
    },
    {
      "cell_type": "code",
      "metadata": {
        "id": "G5StCIVPIEA4"
      },
      "source": [
        "df1.set_index('State',inplace=True)"
      ],
      "execution_count": 50,
      "outputs": []
    },
    {
      "cell_type": "code",
      "metadata": {
        "colab": {
          "base_uri": "https://localhost:8080/",
          "height": 608
        },
        "id": "1mWiMQI9wdqT",
        "outputId": "1a256180-c09d-4a8c-e6ab-a6bd815795e7"
      },
      "source": [
        "plt.rcParams['figure.figsize'] = (20, 10)\n",
        "plt.plot(df1[['Churn']].nlargest(10,'Churn'))"
      ],
      "execution_count": 51,
      "outputs": [
        {
          "output_type": "execute_result",
          "data": {
            "text/plain": [
              "[<matplotlib.lines.Line2D at 0x7fee400da3d0>]"
            ]
          },
          "metadata": {
            "tags": []
          },
          "execution_count": 51
        },
        {
          "output_type": "display_data",
          "data": {
            "image/png": "[encoded data removed]",
            "text/plain": [
              "<Figure size 1440x720 with 1 Axes>"
            ]
          },
          "metadata": {
            "tags": [],
            "needs_background": "light"
          }
        }
      ]
    },
    {
      "cell_type": "code",
      "metadata": {
        "id": "I6QBOw-Bn0Q8"
      },
      "source": [
        "df1.reset_index(inplace=True)"
      ],
      "execution_count": null,
      "outputs": []
    },
    {
      "cell_type": "code",
      "metadata": {
        "id": "JyaEvhiMmLTF"
      },
      "source": [
        "df1.sort_values(by='Churn',ascending=False)\n",
        "top10_state=df1.nlargest(10,'Churn')['State']"
      ],
      "execution_count": 69,
      "outputs": []
    },
    {
      "cell_type": "markdown",
      "metadata": {
        "id": "t6XHtFwBzXhZ"
      },
      "source": [
        "State  - TX,NJ-18 has heighest churn value   following that MD-17,MI-16,NY-15"
      ]
    },
    {
      "cell_type": "code",
      "metadata": {
        "colab": {
          "base_uri": "https://localhost:8080/",
          "height": 659
        },
        "id": "Hq5A6w1QyWN1",
        "outputId": "656e8fe2-f7c3-437b-fb9c-09139faa108b"
      },
      "source": [
        "plt.rcParams['figure.figsize'] = (20, 10)\n",
        "# plt.plot(df1.nlargest(15,'Churn'))\n",
        "\n",
        "df1[['Churn']].nlargest(15,'Churn').plot(kind='bar')\n",
        "plt.title('Chrun distribution on State ', fontsize=20)\n",
        "plt.xlabel('State',fontsize=20)\n",
        "plt.ylabel('Churn Customer Count (%)',fontsize=20)"
      ],
      "execution_count": 15,
      "outputs": [
        {
          "output_type": "execute_result",
          "data": {
            "text/plain": [
              "Text(0, 0.5, 'Churn Customer Count (%)')"
            ]
          },
          "metadata": {
            "tags": []
          },
          "execution_count": 15
        },
        {
          "output_type": "display_data",
          "data": {
            "image/png": "[encoded data removed]",
            "text/plain": [
              "<Figure size 1440x720 with 1 Axes>"
            ]
          },
          "metadata": {
            "tags": [],
            "needs_background": "light"
          }
        }
      ]
    },
    {
      "cell_type": "code",
      "metadata": {
        "id": "6oDQ9un60Axh"
      },
      "source": [
        "tele_df['churn_count']=tele_df[tele_df['Churn']==True].groupby(['State']).Churn.transform('count')"
      ],
      "execution_count": 183,
      "outputs": []
    },
    {
      "cell_type": "code",
      "metadata": {
        "id": "PAkeluapFjbE"
      },
      "source": [
        "df3=tele_df[['State','churn_count']].drop_duplicates()"
      ],
      "execution_count": 184,
      "outputs": []
    },
    {
      "cell_type": "code",
      "metadata": {
        "colab": {
          "base_uri": "https://localhost:8080/",
          "height": 415
        },
        "id": "lxvTFY33Fvjv",
        "outputId": "3b451444-5ee2-4f7d-cc6f-c69dda05c55e"
      },
      "source": [
        "df3.sort_values(by='churn_count',ascending=False)"
      ],
      "execution_count": 185,
      "outputs": [
        {
          "output_type": "execute_result",
          "data": {
            "text/html": [
              "<div>\n",
              "<style scoped>\n",
              "    .dataframe tbody tr th:only-of-type {\n",
              "        vertical-align: middle;\n",
              "    }\n",
              "\n",
              "    .dataframe tbody tr th {\n",
              "        vertical-align: top;\n",
              "    }\n",
              "\n",
              "    .dataframe thead th {\n",
              "        text-align: right;\n",
              "    }\n",
              "</style>\n",
              "<table border=\"1\" class=\"dataframe\">\n",
              "  <thead>\n",
              "    <tr style=\"text-align: right;\">\n",
              "      <th></th>\n",
              "      <th>State</th>\n",
              "      <th>churn_count</th>\n",
              "    </tr>\n",
              "  </thead>\n",
              "  <tbody>\n",
              "    <tr>\n",
              "      <th>89</th>\n",
              "      <td>NJ</td>\n",
              "      <td>18.0</td>\n",
              "    </tr>\n",
              "    <tr>\n",
              "      <th>69</th>\n",
              "      <td>TX</td>\n",
              "      <td>18.0</td>\n",
              "    </tr>\n",
              "    <tr>\n",
              "      <th>41</th>\n",
              "      <td>MD</td>\n",
              "      <td>17.0</td>\n",
              "    </tr>\n",
              "    <tr>\n",
              "      <th>502</th>\n",
              "      <td>MI</td>\n",
              "      <td>16.0</td>\n",
              "    </tr>\n",
              "    <tr>\n",
              "      <th>15</th>\n",
              "      <td>NY</td>\n",
              "      <td>15.0</td>\n",
              "    </tr>\n",
              "    <tr>\n",
              "      <th>...</th>\n",
              "      <td>...</td>\n",
              "      <td>...</td>\n",
              "    </tr>\n",
              "    <tr>\n",
              "      <th>136</th>\n",
              "      <td>NY</td>\n",
              "      <td>NaN</td>\n",
              "    </tr>\n",
              "    <tr>\n",
              "      <th>196</th>\n",
              "      <td>TN</td>\n",
              "      <td>NaN</td>\n",
              "    </tr>\n",
              "    <tr>\n",
              "      <th>212</th>\n",
              "      <td>PA</td>\n",
              "      <td>NaN</td>\n",
              "    </tr>\n",
              "    <tr>\n",
              "      <th>290</th>\n",
              "      <td>CT</td>\n",
              "      <td>NaN</td>\n",
              "    </tr>\n",
              "    <tr>\n",
              "      <th>377</th>\n",
              "      <td>ND</td>\n",
              "      <td>NaN</td>\n",
              "    </tr>\n",
              "  </tbody>\n",
              "</table>\n",
              "<p>102 rows × 2 columns</p>\n",
              "</div>"
            ],
            "text/plain": [
              "    State  churn_count\n",
              "89     NJ         18.0\n",
              "69     TX         18.0\n",
              "41     MD         17.0\n",
              "502    MI         16.0\n",
              "15     NY         15.0\n",
              "..    ...          ...\n",
              "136    NY          NaN\n",
              "196    TN          NaN\n",
              "212    PA          NaN\n",
              "290    CT          NaN\n",
              "377    ND          NaN\n",
              "\n",
              "[102 rows x 2 columns]"
            ]
          },
          "metadata": {
            "tags": []
          },
          "execution_count": 185
        }
      ]
    },
    {
      "cell_type": "code",
      "metadata": {
        "id": "BToQuGUyJ68s"
      },
      "source": [
        "df4=tele_df[tele_df['Churn']==True].groupby(['State','Area code'])['Churn'].count()"
      ],
      "execution_count": 186,
      "outputs": []
    },
    {
      "cell_type": "code",
      "metadata": {
        "colab": {
          "base_uri": "https://localhost:8080/",
          "height": 511
        },
        "id": "J6poGxQFGyft",
        "outputId": "d11436ba-7301-476a-c373-8699d7080428"
      },
      "source": [
        "plt.rcParams['figure.figsize'] = (40, 10)\n",
        "df4.plot(kind='bar')\n",
        "plt.title('Chrun distribution on Area Code ', fontsize=20)\n",
        "plt.xlabel('State(Area Code)',fontsize=20)\n",
        "plt.ylabel('Churn Customer Count',fontsize=20)"
      ],
      "execution_count": 187,
      "outputs": [
        {
          "output_type": "execute_result",
          "data": {
            "text/plain": [
              "Text(0, 0.5, 'Churn Customer Count')"
            ]
          },
          "metadata": {
            "tags": []
          },
          "execution_count": 187
        },
        {
          "output_type": "display_data",
          "data": {
            "image/png": "[encoded data removed]",
            "text/plain": [
              "<Figure size 2880x720 with 1 Axes>"
            ]
          },
          "metadata": {
            "tags": [],
            "needs_background": "light"
          }
        }
      ]
    },
    {
      "cell_type": "markdown",
      "metadata": {
        "id": "70O1ZNFuDTXC"
      },
      "source": [
        "# Charge per minute of Churn and non  Churn Customer"
      ]
    },
    {
      "cell_type": "code",
      "metadata": {
        "id": "xwSqEamVKDFq"
      },
      "source": [
        "tele_df['charge_per_min_day'] =tele_df['Total day charge']/tele_df['Total day minutes']\n",
        "tele_df['charge_per_min_eve'] =tele_df['Total eve charge']/tele_df['Total eve minutes']\n",
        "tele_df['charge_per_min_night'] =tele_df['Total night charge']/tele_df['Total night minutes']"
      ],
      "execution_count": null,
      "outputs": []
    },
    {
      "cell_type": "code",
      "metadata": {
        "colab": {
          "base_uri": "https://localhost:8080/"
        },
        "id": "MT9w9B8e-p5Y",
        "outputId": "4ca7d3fd-525a-453a-c5e0-508e4a1a4369"
      },
      "source": [
        "For non churn customer\n",
        "chrg_p_min_day_mean = tele_df[tele_df['Churn']==False]['charge_per_min_day'].mean()\n",
        "chrg_p_min_eve_mean = tele_df[tele_df['Churn']==False]['charge_per_min_eve'].mean()\n",
        "chrg_p_min_night_mean = tele_df[tele_df['Churn']==False]['charge_per_min_night'].mean()\n",
        "print(chrg_p_min_day_mean,chrg_p_min_eve_mean,chrg_p_min_night_mean)"
      ],
      "execution_count": null,
      "outputs": [
        {
          "output_type": "stream",
          "text": [
            "0.17000331531507384 0.08500123332733626 0.0450003662063208\n"
          ],
          "name": "stdout"
        }
      ]
    },
    {
      "cell_type": "code",
      "metadata": {
        "colab": {
          "base_uri": "https://localhost:8080/"
        },
        "id": "S4B6NB_aDMeQ",
        "outputId": "0dfb3f3a-35e0-4370-b9ca-eb69b6433677"
      },
      "source": [
        "#For Churn customer\n",
        "chrg_p_min_day_mean = tele_df[tele_df['Churn']==True]['charge_per_min_day'].mean()\n",
        "chrg_p_min_eve_mean = tele_df[tele_df['Churn']==True]['charge_per_min_eve'].mean()\n",
        "chrg_p_min_night_mean = tele_df[tele_df['Churn']==True]['charge_per_min_night'].mean()\n",
        "print(chrg_p_min_day_mean,chrg_p_min_eve_mean,chrg_p_min_night_mean)"
      ],
      "execution_count": null,
      "outputs": [
        {
          "output_type": "stream",
          "text": [
            "0.17000275572453427 0.08500081707432333 0.0450002247152355\n"
          ],
          "name": "stdout"
        }
      ]
    },
    {
      "cell_type": "code",
      "metadata": {
        "colab": {
          "base_uri": "https://localhost:8080/"
        },
        "id": "NzQ9GdcXnTWZ",
        "outputId": "b1792f67-f859-4947-cfd4-f095219339b8"
      },
      "source": [
        "tele_df.info()"
      ],
      "execution_count": null,
      "outputs": [
        {
          "output_type": "stream",
          "text": [
            "<class 'pandas.core.frame.DataFrame'>\n",
            "RangeIndex: 3333 entries, 0 to 3332\n",
            "Data columns (total 24 columns):\n",
            " #   Column                  Non-Null Count  Dtype  \n",
            "---  ------                  --------------  -----  \n",
            " 0   State                   3333 non-null   object \n",
            " 1   Account length          3333 non-null   int64  \n",
            " 2   Area code               3333 non-null   int64  \n",
            " 3   International plan      3333 non-null   object \n",
            " 4   Voice mail plan         3333 non-null   object \n",
            " 5   Number vmail messages   3333 non-null   int64  \n",
            " 6   Total day minutes       3333 non-null   float64\n",
            " 7   Total day calls         3333 non-null   int64  \n",
            " 8   Total day charge        3333 non-null   float64\n",
            " 9   Total eve minutes       3333 non-null   float64\n",
            " 10  Total eve calls         3333 non-null   int64  \n",
            " 11  Total eve charge        3333 non-null   float64\n",
            " 12  Total night minutes     3333 non-null   float64\n",
            " 13  Total night calls       3333 non-null   int64  \n",
            " 14  Total night charge      3333 non-null   float64\n",
            " 15  Total intl minutes      3333 non-null   float64\n",
            " 16  Total intl calls        3333 non-null   int64  \n",
            " 17  Total intl charge       3333 non-null   float64\n",
            " 18  Customer service calls  3333 non-null   int64  \n",
            " 19  Churn                   3333 non-null   bool   \n",
            " 20  churn_count             483 non-null    float64\n",
            " 21  charge_per_min_day      3331 non-null   float64\n",
            " 22  charge_per_min_eve      3332 non-null   float64\n",
            " 23  charge_per_min_night    3333 non-null   float64\n",
            "dtypes: bool(1), float64(12), int64(8), object(3)\n",
            "memory usage: 602.3+ KB\n"
          ],
          "name": "stdout"
        }
      ]
    },
    {
      "cell_type": "markdown",
      "metadata": {
        "id": "_osyInsgEkUS"
      },
      "source": [
        "# **There is no difference between charge per minute for churn and non churn customer**"
      ]
    },
    {
      "cell_type": "code",
      "metadata": {
        "id": "ZBQ1QEL5Ih-9"
      },
      "source": [
        "df1 = tele_df[['Churn','State','Account length','Total day calls']]\n",
        "# df2=pd.MultiIndex.from_frame(pd.DataFrame([df1['State'].unique().tolist(), df1['Churn'].unique().tolist()],\n",
        "#            )"
      ],
      "execution_count": null,
      "outputs": []
    },
    {
      "cell_type": "code",
      "metadata": {
        "colab": {
          "base_uri": "https://localhost:8080/",
          "height": 303
        },
        "id": "gkN_9f4Aksq_",
        "outputId": "23c8f506-0157-4a1a-9bb9-58effb50b66e"
      },
      "source": [
        "df1.groupby(['Churn','State','Account length'])['Total day calls'].count()"
      ],
      "execution_count": null,
      "outputs": [
        {
          "output_type": "error",
          "ename": "KeyError",
          "evalue": "ignored",
          "traceback": [
            "\u001b[0;31m---------------------------------------------------------------------------\u001b[0m",
            "\u001b[0;31mKeyError\u001b[0m                                  Traceback (most recent call last)",
            "\u001b[0;32m<ipython-input-196-d2d0c077af5a>\u001b[0m in \u001b[0;36m<module>\u001b[0;34m()\u001b[0m\n\u001b[0;32m----> 1\u001b[0;31m \u001b[0mdf1\u001b[0m\u001b[0;34m.\u001b[0m\u001b[0mgroupby\u001b[0m\u001b[0;34m(\u001b[0m\u001b[0;34m[\u001b[0m\u001b[0;34m'Churn'\u001b[0m\u001b[0;34m,\u001b[0m\u001b[0;34m'State'\u001b[0m\u001b[0;34m,\u001b[0m\u001b[0;34m'Account length'\u001b[0m\u001b[0;34m]\u001b[0m\u001b[0;34m)\u001b[0m\u001b[0;34m[\u001b[0m\u001b[0;34m'Total day calls'\u001b[0m\u001b[0;34m]\u001b[0m\u001b[0;34m.\u001b[0m\u001b[0mcount\u001b[0m\u001b[0;34m(\u001b[0m\u001b[0;34m)\u001b[0m\u001b[0;34m\u001b[0m\u001b[0;34m\u001b[0m\u001b[0m\n\u001b[0m",
            "\u001b[0;32m/usr/local/lib/python3.7/dist-packages/pandas/core/groupby/generic.py\u001b[0m in \u001b[0;36m__getitem__\u001b[0;34m(self, key)\u001b[0m\n\u001b[1;32m   1608\u001b[0m                 \u001b[0mstacklevel\u001b[0m\u001b[0;34m=\u001b[0m\u001b[0;36m2\u001b[0m\u001b[0;34m,\u001b[0m\u001b[0;34m\u001b[0m\u001b[0;34m\u001b[0m\u001b[0m\n\u001b[1;32m   1609\u001b[0m             )\n\u001b[0;32m-> 1610\u001b[0;31m         \u001b[0;32mreturn\u001b[0m \u001b[0msuper\u001b[0m\u001b[0;34m(\u001b[0m\u001b[0;34m)\u001b[0m\u001b[0;34m.\u001b[0m\u001b[0m__getitem__\u001b[0m\u001b[0;34m(\u001b[0m\u001b[0mkey\u001b[0m\u001b[0;34m)\u001b[0m\u001b[0;34m\u001b[0m\u001b[0;34m\u001b[0m\u001b[0m\n\u001b[0m\u001b[1;32m   1611\u001b[0m \u001b[0;34m\u001b[0m\u001b[0m\n\u001b[1;32m   1612\u001b[0m     \u001b[0;32mdef\u001b[0m \u001b[0m_gotitem\u001b[0m\u001b[0;34m(\u001b[0m\u001b[0mself\u001b[0m\u001b[0;34m,\u001b[0m \u001b[0mkey\u001b[0m\u001b[0;34m,\u001b[0m \u001b[0mndim\u001b[0m\u001b[0;34m:\u001b[0m \u001b[0mint\u001b[0m\u001b[0;34m,\u001b[0m \u001b[0msubset\u001b[0m\u001b[0;34m=\u001b[0m\u001b[0;32mNone\u001b[0m\u001b[0;34m)\u001b[0m\u001b[0;34m:\u001b[0m\u001b[0;34m\u001b[0m\u001b[0;34m\u001b[0m\u001b[0m\n",
            "\u001b[0;32m/usr/local/lib/python3.7/dist-packages/pandas/core/base.py\u001b[0m in \u001b[0;36m__getitem__\u001b[0;34m(self, key)\u001b[0m\n\u001b[1;32m    226\u001b[0m         \u001b[0;32melse\u001b[0m\u001b[0;34m:\u001b[0m\u001b[0;34m\u001b[0m\u001b[0;34m\u001b[0m\u001b[0m\n\u001b[1;32m    227\u001b[0m             \u001b[0;32mif\u001b[0m \u001b[0mkey\u001b[0m \u001b[0;32mnot\u001b[0m \u001b[0;32min\u001b[0m \u001b[0mself\u001b[0m\u001b[0;34m.\u001b[0m\u001b[0mobj\u001b[0m\u001b[0;34m:\u001b[0m\u001b[0;34m\u001b[0m\u001b[0;34m\u001b[0m\u001b[0m\n\u001b[0;32m--> 228\u001b[0;31m                 \u001b[0;32mraise\u001b[0m \u001b[0mKeyError\u001b[0m\u001b[0;34m(\u001b[0m\u001b[0;34mf\"Column not found: {key}\"\u001b[0m\u001b[0;34m)\u001b[0m\u001b[0;34m\u001b[0m\u001b[0;34m\u001b[0m\u001b[0m\n\u001b[0m\u001b[1;32m    229\u001b[0m             \u001b[0;32mreturn\u001b[0m \u001b[0mself\u001b[0m\u001b[0;34m.\u001b[0m\u001b[0m_gotitem\u001b[0m\u001b[0;34m(\u001b[0m\u001b[0mkey\u001b[0m\u001b[0;34m,\u001b[0m \u001b[0mndim\u001b[0m\u001b[0;34m=\u001b[0m\u001b[0;36m1\u001b[0m\u001b[0;34m)\u001b[0m\u001b[0;34m\u001b[0m\u001b[0;34m\u001b[0m\u001b[0m\n\u001b[1;32m    230\u001b[0m \u001b[0;34m\u001b[0m\u001b[0m\n",
            "\u001b[0;31mKeyError\u001b[0m: 'Column not found: Total day calls'"
          ]
        }
      ]
    },
    {
      "cell_type": "code",
      "metadata": {
        "colab": {
          "base_uri": "https://localhost:8080/"
        },
        "id": "D3CAGHNJWf0-",
        "outputId": "79892cf7-f2c8-4d70-d390-265b1cfc6b15"
      },
      "source": [
        "df2"
      ],
      "execution_count": null,
      "outputs": [
        {
          "output_type": "execute_result",
          "data": {
            "text/plain": [
              "10       65\n",
              "15      161\n",
              "21       77\n",
              "33       12\n",
              "41      135\n",
              "       ... \n",
              "3301     84\n",
              "3304     71\n",
              "3320    122\n",
              "3322     62\n",
              "3323    117\n",
              "Name: Account length, Length: 483, dtype: int64"
            ]
          },
          "metadata": {
            "tags": []
          },
          "execution_count": 176
        }
      ]
    },
    {
      "cell_type": "code",
      "metadata": {
        "colab": {
          "base_uri": "https://localhost:8080/",
          "height": 237
        },
        "id": "B3qCLTiiWto-",
        "outputId": "064c491e-9ad6-41ac-ba71-b2fd3f2d501e"
      },
      "source": [
        "pd.crosstab(tele_df['Churn'], tele_df['Account length'], margins = True)\n"
      ],
      "execution_count": null,
      "outputs": [
        {
          "output_type": "execute_result",
          "data": {
            "text/html": [
              "<div>\n",
              "<style scoped>\n",
              "    .dataframe tbody tr th:only-of-type {\n",
              "        vertical-align: middle;\n",
              "    }\n",
              "\n",
              "    .dataframe tbody tr th {\n",
              "        vertical-align: top;\n",
              "    }\n",
              "\n",
              "    .dataframe thead th {\n",
              "        text-align: right;\n",
              "    }\n",
              "</style>\n",
              "<table border=\"1\" class=\"dataframe\">\n",
              "  <thead>\n",
              "    <tr style=\"text-align: right;\">\n",
              "      <th>Account length</th>\n",
              "      <th>1</th>\n",
              "      <th>2</th>\n",
              "      <th>3</th>\n",
              "      <th>4</th>\n",
              "      <th>5</th>\n",
              "      <th>6</th>\n",
              "      <th>7</th>\n",
              "      <th>8</th>\n",
              "      <th>9</th>\n",
              "      <th>10</th>\n",
              "      <th>11</th>\n",
              "      <th>12</th>\n",
              "      <th>13</th>\n",
              "      <th>15</th>\n",
              "      <th>16</th>\n",
              "      <th>17</th>\n",
              "      <th>18</th>\n",
              "      <th>19</th>\n",
              "      <th>20</th>\n",
              "      <th>21</th>\n",
              "      <th>22</th>\n",
              "      <th>23</th>\n",
              "      <th>24</th>\n",
              "      <th>25</th>\n",
              "      <th>26</th>\n",
              "      <th>27</th>\n",
              "      <th>28</th>\n",
              "      <th>29</th>\n",
              "      <th>30</th>\n",
              "      <th>31</th>\n",
              "      <th>32</th>\n",
              "      <th>33</th>\n",
              "      <th>34</th>\n",
              "      <th>35</th>\n",
              "      <th>36</th>\n",
              "      <th>37</th>\n",
              "      <th>38</th>\n",
              "      <th>39</th>\n",
              "      <th>40</th>\n",
              "      <th>41</th>\n",
              "      <th>...</th>\n",
              "      <th>175</th>\n",
              "      <th>176</th>\n",
              "      <th>177</th>\n",
              "      <th>178</th>\n",
              "      <th>179</th>\n",
              "      <th>180</th>\n",
              "      <th>181</th>\n",
              "      <th>182</th>\n",
              "      <th>183</th>\n",
              "      <th>184</th>\n",
              "      <th>185</th>\n",
              "      <th>186</th>\n",
              "      <th>188</th>\n",
              "      <th>189</th>\n",
              "      <th>190</th>\n",
              "      <th>191</th>\n",
              "      <th>192</th>\n",
              "      <th>193</th>\n",
              "      <th>194</th>\n",
              "      <th>195</th>\n",
              "      <th>196</th>\n",
              "      <th>197</th>\n",
              "      <th>199</th>\n",
              "      <th>200</th>\n",
              "      <th>201</th>\n",
              "      <th>202</th>\n",
              "      <th>204</th>\n",
              "      <th>205</th>\n",
              "      <th>208</th>\n",
              "      <th>209</th>\n",
              "      <th>210</th>\n",
              "      <th>212</th>\n",
              "      <th>215</th>\n",
              "      <th>217</th>\n",
              "      <th>221</th>\n",
              "      <th>224</th>\n",
              "      <th>225</th>\n",
              "      <th>232</th>\n",
              "      <th>243</th>\n",
              "      <th>All</th>\n",
              "    </tr>\n",
              "    <tr>\n",
              "      <th>Churn</th>\n",
              "      <th></th>\n",
              "      <th></th>\n",
              "      <th></th>\n",
              "      <th></th>\n",
              "      <th></th>\n",
              "      <th></th>\n",
              "      <th></th>\n",
              "      <th></th>\n",
              "      <th></th>\n",
              "      <th></th>\n",
              "      <th></th>\n",
              "      <th></th>\n",
              "      <th></th>\n",
              "      <th></th>\n",
              "      <th></th>\n",
              "      <th></th>\n",
              "      <th></th>\n",
              "      <th></th>\n",
              "      <th></th>\n",
              "      <th></th>\n",
              "      <th></th>\n",
              "      <th></th>\n",
              "      <th></th>\n",
              "      <th></th>\n",
              "      <th></th>\n",
              "      <th></th>\n",
              "      <th></th>\n",
              "      <th></th>\n",
              "      <th></th>\n",
              "      <th></th>\n",
              "      <th></th>\n",
              "      <th></th>\n",
              "      <th></th>\n",
              "      <th></th>\n",
              "      <th></th>\n",
              "      <th></th>\n",
              "      <th></th>\n",
              "      <th></th>\n",
              "      <th></th>\n",
              "      <th></th>\n",
              "      <th></th>\n",
              "      <th></th>\n",
              "      <th></th>\n",
              "      <th></th>\n",
              "      <th></th>\n",
              "      <th></th>\n",
              "      <th></th>\n",
              "      <th></th>\n",
              "      <th></th>\n",
              "      <th></th>\n",
              "      <th></th>\n",
              "      <th></th>\n",
              "      <th></th>\n",
              "      <th></th>\n",
              "      <th></th>\n",
              "      <th></th>\n",
              "      <th></th>\n",
              "      <th></th>\n",
              "      <th></th>\n",
              "      <th></th>\n",
              "      <th></th>\n",
              "      <th></th>\n",
              "      <th></th>\n",
              "      <th></th>\n",
              "      <th></th>\n",
              "      <th></th>\n",
              "      <th></th>\n",
              "      <th></th>\n",
              "      <th></th>\n",
              "      <th></th>\n",
              "      <th></th>\n",
              "      <th></th>\n",
              "      <th></th>\n",
              "      <th></th>\n",
              "      <th></th>\n",
              "      <th></th>\n",
              "      <th></th>\n",
              "      <th></th>\n",
              "      <th></th>\n",
              "      <th></th>\n",
              "      <th></th>\n",
              "    </tr>\n",
              "  </thead>\n",
              "  <tbody>\n",
              "    <tr>\n",
              "      <th>False</th>\n",
              "      <td>7</td>\n",
              "      <td>0</td>\n",
              "      <td>5</td>\n",
              "      <td>1</td>\n",
              "      <td>1</td>\n",
              "      <td>2</td>\n",
              "      <td>2</td>\n",
              "      <td>1</td>\n",
              "      <td>3</td>\n",
              "      <td>3</td>\n",
              "      <td>4</td>\n",
              "      <td>2</td>\n",
              "      <td>8</td>\n",
              "      <td>3</td>\n",
              "      <td>7</td>\n",
              "      <td>2</td>\n",
              "      <td>2</td>\n",
              "      <td>4</td>\n",
              "      <td>3</td>\n",
              "      <td>7</td>\n",
              "      <td>6</td>\n",
              "      <td>2</td>\n",
              "      <td>5</td>\n",
              "      <td>4</td>\n",
              "      <td>1</td>\n",
              "      <td>8</td>\n",
              "      <td>5</td>\n",
              "      <td>4</td>\n",
              "      <td>8</td>\n",
              "      <td>7</td>\n",
              "      <td>7</td>\n",
              "      <td>9</td>\n",
              "      <td>6</td>\n",
              "      <td>8</td>\n",
              "      <td>13</td>\n",
              "      <td>11</td>\n",
              "      <td>8</td>\n",
              "      <td>6</td>\n",
              "      <td>6</td>\n",
              "      <td>13</td>\n",
              "      <td>...</td>\n",
              "      <td>1</td>\n",
              "      <td>6</td>\n",
              "      <td>7</td>\n",
              "      <td>2</td>\n",
              "      <td>5</td>\n",
              "      <td>4</td>\n",
              "      <td>4</td>\n",
              "      <td>4</td>\n",
              "      <td>5</td>\n",
              "      <td>3</td>\n",
              "      <td>6</td>\n",
              "      <td>2</td>\n",
              "      <td>0</td>\n",
              "      <td>6</td>\n",
              "      <td>7</td>\n",
              "      <td>1</td>\n",
              "      <td>3</td>\n",
              "      <td>3</td>\n",
              "      <td>3</td>\n",
              "      <td>2</td>\n",
              "      <td>2</td>\n",
              "      <td>2</td>\n",
              "      <td>1</td>\n",
              "      <td>1</td>\n",
              "      <td>2</td>\n",
              "      <td>1</td>\n",
              "      <td>2</td>\n",
              "      <td>2</td>\n",
              "      <td>0</td>\n",
              "      <td>2</td>\n",
              "      <td>2</td>\n",
              "      <td>1</td>\n",
              "      <td>1</td>\n",
              "      <td>2</td>\n",
              "      <td>1</td>\n",
              "      <td>1</td>\n",
              "      <td>1</td>\n",
              "      <td>1</td>\n",
              "      <td>1</td>\n",
              "      <td>2850</td>\n",
              "    </tr>\n",
              "    <tr>\n",
              "      <th>True</th>\n",
              "      <td>1</td>\n",
              "      <td>1</td>\n",
              "      <td>0</td>\n",
              "      <td>0</td>\n",
              "      <td>0</td>\n",
              "      <td>0</td>\n",
              "      <td>0</td>\n",
              "      <td>0</td>\n",
              "      <td>0</td>\n",
              "      <td>0</td>\n",
              "      <td>0</td>\n",
              "      <td>1</td>\n",
              "      <td>1</td>\n",
              "      <td>0</td>\n",
              "      <td>1</td>\n",
              "      <td>2</td>\n",
              "      <td>0</td>\n",
              "      <td>1</td>\n",
              "      <td>0</td>\n",
              "      <td>1</td>\n",
              "      <td>0</td>\n",
              "      <td>2</td>\n",
              "      <td>3</td>\n",
              "      <td>1</td>\n",
              "      <td>0</td>\n",
              "      <td>1</td>\n",
              "      <td>1</td>\n",
              "      <td>1</td>\n",
              "      <td>0</td>\n",
              "      <td>0</td>\n",
              "      <td>0</td>\n",
              "      <td>1</td>\n",
              "      <td>1</td>\n",
              "      <td>1</td>\n",
              "      <td>1</td>\n",
              "      <td>2</td>\n",
              "      <td>1</td>\n",
              "      <td>1</td>\n",
              "      <td>3</td>\n",
              "      <td>1</td>\n",
              "      <td>...</td>\n",
              "      <td>0</td>\n",
              "      <td>0</td>\n",
              "      <td>2</td>\n",
              "      <td>1</td>\n",
              "      <td>1</td>\n",
              "      <td>1</td>\n",
              "      <td>1</td>\n",
              "      <td>2</td>\n",
              "      <td>0</td>\n",
              "      <td>1</td>\n",
              "      <td>0</td>\n",
              "      <td>0</td>\n",
              "      <td>1</td>\n",
              "      <td>0</td>\n",
              "      <td>0</td>\n",
              "      <td>0</td>\n",
              "      <td>0</td>\n",
              "      <td>1</td>\n",
              "      <td>0</td>\n",
              "      <td>0</td>\n",
              "      <td>0</td>\n",
              "      <td>1</td>\n",
              "      <td>0</td>\n",
              "      <td>0</td>\n",
              "      <td>1</td>\n",
              "      <td>0</td>\n",
              "      <td>0</td>\n",
              "      <td>0</td>\n",
              "      <td>1</td>\n",
              "      <td>1</td>\n",
              "      <td>0</td>\n",
              "      <td>1</td>\n",
              "      <td>0</td>\n",
              "      <td>0</td>\n",
              "      <td>0</td>\n",
              "      <td>1</td>\n",
              "      <td>1</td>\n",
              "      <td>0</td>\n",
              "      <td>0</td>\n",
              "      <td>483</td>\n",
              "    </tr>\n",
              "    <tr>\n",
              "      <th>All</th>\n",
              "      <td>8</td>\n",
              "      <td>1</td>\n",
              "      <td>5</td>\n",
              "      <td>1</td>\n",
              "      <td>1</td>\n",
              "      <td>2</td>\n",
              "      <td>2</td>\n",
              "      <td>1</td>\n",
              "      <td>3</td>\n",
              "      <td>3</td>\n",
              "      <td>4</td>\n",
              "      <td>3</td>\n",
              "      <td>9</td>\n",
              "      <td>3</td>\n",
              "      <td>8</td>\n",
              "      <td>4</td>\n",
              "      <td>2</td>\n",
              "      <td>5</td>\n",
              "      <td>3</td>\n",
              "      <td>8</td>\n",
              "      <td>6</td>\n",
              "      <td>4</td>\n",
              "      <td>8</td>\n",
              "      <td>5</td>\n",
              "      <td>1</td>\n",
              "      <td>9</td>\n",
              "      <td>6</td>\n",
              "      <td>5</td>\n",
              "      <td>8</td>\n",
              "      <td>7</td>\n",
              "      <td>7</td>\n",
              "      <td>10</td>\n",
              "      <td>7</td>\n",
              "      <td>9</td>\n",
              "      <td>14</td>\n",
              "      <td>13</td>\n",
              "      <td>9</td>\n",
              "      <td>7</td>\n",
              "      <td>9</td>\n",
              "      <td>14</td>\n",
              "      <td>...</td>\n",
              "      <td>1</td>\n",
              "      <td>6</td>\n",
              "      <td>9</td>\n",
              "      <td>3</td>\n",
              "      <td>6</td>\n",
              "      <td>5</td>\n",
              "      <td>5</td>\n",
              "      <td>6</td>\n",
              "      <td>5</td>\n",
              "      <td>4</td>\n",
              "      <td>6</td>\n",
              "      <td>2</td>\n",
              "      <td>1</td>\n",
              "      <td>6</td>\n",
              "      <td>7</td>\n",
              "      <td>1</td>\n",
              "      <td>3</td>\n",
              "      <td>4</td>\n",
              "      <td>3</td>\n",
              "      <td>2</td>\n",
              "      <td>2</td>\n",
              "      <td>3</td>\n",
              "      <td>1</td>\n",
              "      <td>1</td>\n",
              "      <td>3</td>\n",
              "      <td>1</td>\n",
              "      <td>2</td>\n",
              "      <td>2</td>\n",
              "      <td>1</td>\n",
              "      <td>3</td>\n",
              "      <td>2</td>\n",
              "      <td>2</td>\n",
              "      <td>1</td>\n",
              "      <td>2</td>\n",
              "      <td>1</td>\n",
              "      <td>2</td>\n",
              "      <td>2</td>\n",
              "      <td>1</td>\n",
              "      <td>1</td>\n",
              "      <td>3333</td>\n",
              "    </tr>\n",
              "  </tbody>\n",
              "</table>\n",
              "<p>3 rows × 213 columns</p>\n",
              "</div>"
            ],
            "text/plain": [
              "Account length  1  2  3  4  5  6  7  8  ...  215  217  221  224  225  232  243   All\n",
              "Churn                                   ...                                         \n",
              "False           7  0  5  1  1  2  2  1  ...    1    2    1    1    1    1    1  2850\n",
              "True            1  1  0  0  0  0  0  0  ...    0    0    0    1    1    0    0   483\n",
              "All             8  1  5  1  1  2  2  1  ...    1    2    1    2    2    1    1  3333\n",
              "\n",
              "[3 rows x 213 columns]"
            ]
          },
          "metadata": {
            "tags": []
          },
          "execution_count": 195
        }
      ]
    },
    {
      "cell_type": "code",
      "metadata": {
        "colab": {
          "base_uri": "https://localhost:8080/",
          "height": 296
        },
        "id": "cGZWYb9ylHi1",
        "outputId": "1ad68443-fb91-4ad9-f9f5-10e526d41f2a"
      },
      "source": [
        "sns.countplot(x = 'Account length', hue = 'Churn', data = tele_df)\n"
      ],
      "execution_count": 25,
      "outputs": [
        {
          "output_type": "execute_result",
          "data": {
            "text/plain": [
              "<matplotlib.axes._subplots.AxesSubplot at 0x7fee45dac6d0>"
            ]
          },
          "metadata": {
            "tags": []
          },
          "execution_count": 25
        },
        {
          "output_type": "display_data",
          "data": {
            "image/png": "[encoded data removed]",
            "text/plain": [
              "<Figure size 432x288 with 1 Axes>"
            ]
          },
          "metadata": {
            "tags": [],
            "needs_background": "light"
          }
        }
      ]
    },
    {
      "cell_type": "markdown",
      "metadata": {
        "id": "QhJ3v9JtmgTf"
      },
      "source": [
        "# **Analysing top 10 states**"
      ]
    },
    {
      "cell_type": "code",
      "metadata": {
        "id": "2CL0so0WmjL9"
      },
      "source": [
        "top10_state=top10_state.tolist()"
      ],
      "execution_count": 71,
      "outputs": []
    },
    {
      "cell_type": "code",
      "metadata": {
        "colab": {
          "base_uri": "https://localhost:8080/"
        },
        "id": "9eWopJ6Gmn7n",
        "outputId": "2ecfdb07-41b6-436f-92f6-a72994f98f99"
      },
      "source": [
        "df1=tele_df[tele_df['State'].isin(top10_state)]\n",
        "df1['area_total_churn']=df1.groupby(['State','Area code'])['Churn'].transform('count')\n",
        "df1['AWCT_count']=df1[df1['Churn']==True].groupby(['State','Area code','Churn'])['Churn'].transform('count')\n",
        "df1['AWCF_count']=df1[df1['Churn']==False].groupby(['State','Area code','Churn'])['Churn'].transform('count')\n",
        "df1['AWCT_count%']=df1['AWCT_count']/df1['area_total_churn']*100\n",
        "df1['AWCF_count%']=df1['AWCF_count']/df1['area_total_churn']*100\n"
      ],
      "execution_count": 193,
      "outputs": [
        {
          "output_type": "stream",
          "text": [
            "/usr/local/lib/python3.7/dist-packages/ipykernel_launcher.py:2: SettingWithCopyWarning: \n",
            "A value is trying to be set on a copy of a slice from a DataFrame.\n",
            "Try using .loc[row_indexer,col_indexer] = value instead\n",
            "\n",
            "See the caveats in the documentation: https://pandas.pydata.org/pandas-docs/stable/user_guide/indexing.html#returning-a-view-versus-a-copy\n",
            "  \n",
            "/usr/local/lib/python3.7/dist-packages/ipykernel_launcher.py:3: SettingWithCopyWarning: \n",
            "A value is trying to be set on a copy of a slice from a DataFrame.\n",
            "Try using .loc[row_indexer,col_indexer] = value instead\n",
            "\n",
            "See the caveats in the documentation: https://pandas.pydata.org/pandas-docs/stable/user_guide/indexing.html#returning-a-view-versus-a-copy\n",
            "  This is separate from the ipykernel package so we can avoid doing imports until\n",
            "/usr/local/lib/python3.7/dist-packages/ipykernel_launcher.py:4: SettingWithCopyWarning: \n",
            "A value is trying to be set on a copy of a slice from a DataFrame.\n",
            "Try using .loc[row_indexer,col_indexer] = value instead\n",
            "\n",
            "See the caveats in the documentation: https://pandas.pydata.org/pandas-docs/stable/user_guide/indexing.html#returning-a-view-versus-a-copy\n",
            "  after removing the cwd from sys.path.\n",
            "/usr/local/lib/python3.7/dist-packages/ipykernel_launcher.py:5: SettingWithCopyWarning: \n",
            "A value is trying to be set on a copy of a slice from a DataFrame.\n",
            "Try using .loc[row_indexer,col_indexer] = value instead\n",
            "\n",
            "See the caveats in the documentation: https://pandas.pydata.org/pandas-docs/stable/user_guide/indexing.html#returning-a-view-versus-a-copy\n",
            "  \"\"\"\n",
            "/usr/local/lib/python3.7/dist-packages/ipykernel_launcher.py:6: SettingWithCopyWarning: \n",
            "A value is trying to be set on a copy of a slice from a DataFrame.\n",
            "Try using .loc[row_indexer,col_indexer] = value instead\n",
            "\n",
            "See the caveats in the documentation: https://pandas.pydata.org/pandas-docs/stable/user_guide/indexing.html#returning-a-view-versus-a-copy\n",
            "  \n"
          ],
          "name": "stderr"
        }
      ]
    },
    {
      "cell_type": "code",
      "metadata": {
        "id": "-KkbJqj1qEjC"
      },
      "source": [
        "\n",
        "table = pd.pivot_table(df1,  values=['AWCT_count%','AWCF_count%'] , index=['Area code','State',])"
      ],
      "execution_count": 194,
      "outputs": []
    },
    {
      "cell_type": "code",
      "metadata": {
        "id": "t3BGm2l88WN1"
      },
      "source": [
        "\n",
        "table['AWC_diff']=(table['AWCF_count%']-table['AWCT_count%'])"
      ],
      "execution_count": 195,
      "outputs": []
    },
    {
      "cell_type": "code",
      "metadata": {
        "colab": {
          "base_uri": "https://localhost:8080/",
          "height": 999
        },
        "id": "xbDqXC9zB5iz",
        "outputId": "dbd2c693-73f7-4cef-882a-8b508f2a6b85"
      },
      "source": [
        "table"
      ],
      "execution_count": 198,
      "outputs": [
        {
          "output_type": "execute_result",
          "data": {
            "text/html": [
              "<div>\n",
              "<style scoped>\n",
              "    .dataframe tbody tr th:only-of-type {\n",
              "        vertical-align: middle;\n",
              "    }\n",
              "\n",
              "    .dataframe tbody tr th {\n",
              "        vertical-align: top;\n",
              "    }\n",
              "\n",
              "    .dataframe thead th {\n",
              "        text-align: right;\n",
              "    }\n",
              "</style>\n",
              "<table border=\"1\" class=\"dataframe\">\n",
              "  <thead>\n",
              "    <tr style=\"text-align: right;\">\n",
              "      <th></th>\n",
              "      <th></th>\n",
              "      <th>AWCF_count%</th>\n",
              "      <th>AWCT_count%</th>\n",
              "      <th>AWC_diff</th>\n",
              "    </tr>\n",
              "    <tr>\n",
              "      <th>Area code</th>\n",
              "      <th>State</th>\n",
              "      <th></th>\n",
              "      <th></th>\n",
              "      <th></th>\n",
              "    </tr>\n",
              "  </thead>\n",
              "  <tbody>\n",
              "    <tr>\n",
              "      <th rowspan=\"10\" valign=\"top\">408</th>\n",
              "      <th>MD</th>\n",
              "      <td>56.250000</td>\n",
              "      <td>43.750000</td>\n",
              "      <td>12.500000</td>\n",
              "    </tr>\n",
              "    <tr>\n",
              "      <th>MI</th>\n",
              "      <td>41.666667</td>\n",
              "      <td>58.333333</td>\n",
              "      <td>-16.666667</td>\n",
              "    </tr>\n",
              "    <tr>\n",
              "      <th>MN</th>\n",
              "      <td>95.000000</td>\n",
              "      <td>5.000000</td>\n",
              "      <td>90.000000</td>\n",
              "    </tr>\n",
              "    <tr>\n",
              "      <th>MS</th>\n",
              "      <td>66.666667</td>\n",
              "      <td>33.333333</td>\n",
              "      <td>33.333333</td>\n",
              "    </tr>\n",
              "    <tr>\n",
              "      <th>NJ</th>\n",
              "      <td>60.000000</td>\n",
              "      <td>40.000000</td>\n",
              "      <td>20.000000</td>\n",
              "    </tr>\n",
              "    <tr>\n",
              "      <th>NV</th>\n",
              "      <td>85.714286</td>\n",
              "      <td>14.285714</td>\n",
              "      <td>71.428571</td>\n",
              "    </tr>\n",
              "    <tr>\n",
              "      <th>NY</th>\n",
              "      <td>78.947368</td>\n",
              "      <td>21.052632</td>\n",
              "      <td>57.894737</td>\n",
              "    </tr>\n",
              "    <tr>\n",
              "      <th>SC</th>\n",
              "      <td>84.615385</td>\n",
              "      <td>15.384615</td>\n",
              "      <td>69.230769</td>\n",
              "    </tr>\n",
              "    <tr>\n",
              "      <th>TX</th>\n",
              "      <td>85.000000</td>\n",
              "      <td>15.000000</td>\n",
              "      <td>70.000000</td>\n",
              "    </tr>\n",
              "    <tr>\n",
              "      <th>WA</th>\n",
              "      <td>78.260870</td>\n",
              "      <td>21.739130</td>\n",
              "      <td>56.521739</td>\n",
              "    </tr>\n",
              "    <tr>\n",
              "      <th rowspan=\"10\" valign=\"top\">415</th>\n",
              "      <th>MD</th>\n",
              "      <td>84.615385</td>\n",
              "      <td>15.384615</td>\n",
              "      <td>69.230769</td>\n",
              "    </tr>\n",
              "    <tr>\n",
              "      <th>MI</th>\n",
              "      <td>79.487179</td>\n",
              "      <td>20.512821</td>\n",
              "      <td>58.974359</td>\n",
              "    </tr>\n",
              "    <tr>\n",
              "      <th>MN</th>\n",
              "      <td>82.500000</td>\n",
              "      <td>17.500000</td>\n",
              "      <td>65.000000</td>\n",
              "    </tr>\n",
              "    <tr>\n",
              "      <th>MS</th>\n",
              "      <td>77.419355</td>\n",
              "      <td>22.580645</td>\n",
              "      <td>54.838710</td>\n",
              "    </tr>\n",
              "    <tr>\n",
              "      <th>NJ</th>\n",
              "      <td>85.294118</td>\n",
              "      <td>14.705882</td>\n",
              "      <td>70.588235</td>\n",
              "    </tr>\n",
              "    <tr>\n",
              "      <th>NV</th>\n",
              "      <td>73.529412</td>\n",
              "      <td>26.470588</td>\n",
              "      <td>47.058824</td>\n",
              "    </tr>\n",
              "    <tr>\n",
              "      <th>NY</th>\n",
              "      <td>78.723404</td>\n",
              "      <td>21.276596</td>\n",
              "      <td>57.446809</td>\n",
              "    </tr>\n",
              "    <tr>\n",
              "      <th>SC</th>\n",
              "      <td>76.666667</td>\n",
              "      <td>23.333333</td>\n",
              "      <td>53.333333</td>\n",
              "    </tr>\n",
              "    <tr>\n",
              "      <th>TX</th>\n",
              "      <td>75.675676</td>\n",
              "      <td>24.324324</td>\n",
              "      <td>51.351351</td>\n",
              "    </tr>\n",
              "    <tr>\n",
              "      <th>WA</th>\n",
              "      <td>76.923077</td>\n",
              "      <td>23.076923</td>\n",
              "      <td>53.846154</td>\n",
              "    </tr>\n",
              "    <tr>\n",
              "      <th rowspan=\"10\" valign=\"top\">510</th>\n",
              "      <th>MD</th>\n",
              "      <td>73.333333</td>\n",
              "      <td>26.666667</td>\n",
              "      <td>46.666667</td>\n",
              "    </tr>\n",
              "    <tr>\n",
              "      <th>MI</th>\n",
              "      <td>95.454545</td>\n",
              "      <td>4.545455</td>\n",
              "      <td>90.909091</td>\n",
              "    </tr>\n",
              "    <tr>\n",
              "      <th>MN</th>\n",
              "      <td>70.833333</td>\n",
              "      <td>29.166667</td>\n",
              "      <td>41.666667</td>\n",
              "    </tr>\n",
              "    <tr>\n",
              "      <th>MS</th>\n",
              "      <td>89.473684</td>\n",
              "      <td>10.526316</td>\n",
              "      <td>78.947368</td>\n",
              "    </tr>\n",
              "    <tr>\n",
              "      <th>NJ</th>\n",
              "      <td>63.157895</td>\n",
              "      <td>36.842105</td>\n",
              "      <td>26.315789</td>\n",
              "    </tr>\n",
              "    <tr>\n",
              "      <th>NV</th>\n",
              "      <td>83.333333</td>\n",
              "      <td>16.666667</td>\n",
              "      <td>66.666667</td>\n",
              "    </tr>\n",
              "    <tr>\n",
              "      <th>NY</th>\n",
              "      <td>94.117647</td>\n",
              "      <td>5.882353</td>\n",
              "      <td>88.235294</td>\n",
              "    </tr>\n",
              "    <tr>\n",
              "      <th>SC</th>\n",
              "      <td>70.588235</td>\n",
              "      <td>29.411765</td>\n",
              "      <td>41.176471</td>\n",
              "    </tr>\n",
              "    <tr>\n",
              "      <th>TX</th>\n",
              "      <td>60.000000</td>\n",
              "      <td>40.000000</td>\n",
              "      <td>20.000000</td>\n",
              "    </tr>\n",
              "    <tr>\n",
              "      <th>WA</th>\n",
              "      <td>82.352941</td>\n",
              "      <td>17.647059</td>\n",
              "      <td>64.705882</td>\n",
              "    </tr>\n",
              "  </tbody>\n",
              "</table>\n",
              "</div>"
            ],
            "text/plain": [
              "                 AWCF_count%  AWCT_count%   AWC_diff\n",
              "Area code State                                     \n",
              "408       MD       56.250000    43.750000  12.500000\n",
              "          MI       41.666667    58.333333 -16.666667\n",
              "          MN       95.000000     5.000000  90.000000\n",
              "          MS       66.666667    33.333333  33.333333\n",
              "          NJ       60.000000    40.000000  20.000000\n",
              "          NV       85.714286    14.285714  71.428571\n",
              "          NY       78.947368    21.052632  57.894737\n",
              "          SC       84.615385    15.384615  69.230769\n",
              "          TX       85.000000    15.000000  70.000000\n",
              "          WA       78.260870    21.739130  56.521739\n",
              "415       MD       84.615385    15.384615  69.230769\n",
              "          MI       79.487179    20.512821  58.974359\n",
              "          MN       82.500000    17.500000  65.000000\n",
              "          MS       77.419355    22.580645  54.838710\n",
              "          NJ       85.294118    14.705882  70.588235\n",
              "          NV       73.529412    26.470588  47.058824\n",
              "          NY       78.723404    21.276596  57.446809\n",
              "          SC       76.666667    23.333333  53.333333\n",
              "          TX       75.675676    24.324324  51.351351\n",
              "          WA       76.923077    23.076923  53.846154\n",
              "510       MD       73.333333    26.666667  46.666667\n",
              "          MI       95.454545     4.545455  90.909091\n",
              "          MN       70.833333    29.166667  41.666667\n",
              "          MS       89.473684    10.526316  78.947368\n",
              "          NJ       63.157895    36.842105  26.315789\n",
              "          NV       83.333333    16.666667  66.666667\n",
              "          NY       94.117647     5.882353  88.235294\n",
              "          SC       70.588235    29.411765  41.176471\n",
              "          TX       60.000000    40.000000  20.000000\n",
              "          WA       82.352941    17.647059  64.705882"
            ]
          },
          "metadata": {
            "tags": []
          },
          "execution_count": 198
        }
      ]
    },
    {
      "cell_type": "code",
      "metadata": {
        "colab": {
          "base_uri": "https://localhost:8080/",
          "height": 162
        },
        "id": "vD0dCn_EC0SF",
        "outputId": "fd1ad9f5-1b3d-4ea1-9a76-b5fa168aa9d9"
      },
      "source": [
        "table.groupby('Area code')['AWC_diff'].mean()"
      ],
      "execution_count": 1,
      "outputs": [
        {
          "output_type": "error",
          "ename": "NameError",
          "evalue": "ignored",
          "traceback": [
            "\u001b[0;31m---------------------------------------------------------------------------\u001b[0m",
            "\u001b[0;31mNameError\u001b[0m                                 Traceback (most recent call last)",
            "\u001b[0;32m<ipython-input-1-acfc4368e6f2>\u001b[0m in \u001b[0;36m<module>\u001b[0;34m()\u001b[0m\n\u001b[0;32m----> 1\u001b[0;31m \u001b[0mtable\u001b[0m\u001b[0;34m.\u001b[0m\u001b[0mgroupby\u001b[0m\u001b[0;34m(\u001b[0m\u001b[0;34m'Area code'\u001b[0m\u001b[0;34m)\u001b[0m\u001b[0;34m[\u001b[0m\u001b[0;34m'AWCT_count%'\u001b[0m\u001b[0;34m]\u001b[0m\u001b[0;34m.\u001b[0m\u001b[0mmean\u001b[0m\u001b[0;34m(\u001b[0m\u001b[0;34m)\u001b[0m\u001b[0;34m\u001b[0m\u001b[0;34m\u001b[0m\u001b[0m\n\u001b[0m",
            "\u001b[0;31mNameError\u001b[0m: name 'table' is not defined"
          ]
        }
      ]
    },
    {
      "cell_type": "markdown",
      "metadata": {
        "id": "B918fk2DES35"
      },
      "source": [
        "# **Area code 408 has more number of cases than other two areas**\n",
        "State MI has maximum number of churn cases in Area 408, so to address the issue we can begin from that area \n",
        "Area code 408\n",
        "\n",
        "1.nj-20%\n",
        "\n",
        "2.md-15%\n",
        "\n",
        "4.mi-(-15%)\n"
      ]
    },
    {
      "cell_type": "code",
      "metadata": {
        "id": "883SQ-B3ESb-"
      },
      "source": [
        ""
      ],
      "execution_count": 196,
      "outputs": []
    },
    {
      "cell_type": "code",
      "metadata": {
        "colab": {
          "base_uri": "https://localhost:8080/",
          "height": 681
        },
        "id": "npvtjJ4P2-P1",
        "outputId": "d26b9d5a-8e77-4d38-d3f9-3e98b465e487"
      },
      "source": [
        "(table['AWCF_count%']-table['AWCT_count%']).plot(kind='bar')"
      ],
      "execution_count": 197,
      "outputs": [
        {
          "output_type": "execute_result",
          "data": {
            "text/plain": [
              "<matplotlib.axes._subplots.AxesSubplot at 0x7fee3e12d810>"
            ]
          },
          "metadata": {
            "tags": []
          },
          "execution_count": 197
        },
        {
          "output_type": "display_data",
          "data": {
            "image/png": "[encoded data removed]",
            "text/plain": [
              "<Figure size 2880x720 with 1 Axes>"
            ]
          },
          "metadata": {
            "tags": [],
            "needs_background": "light"
          }
        }
      ]
    },
    {
      "cell_type": "code",
      "metadata": {
        "colab": {
          "base_uri": "https://localhost:8080/"
        },
        "id": "DKuhR8pXmswP",
        "outputId": "763f852e-66fe-4d26-8dc6-2d18cb07bfe3"
      },
      "source": [
        "tele_df.info()"
      ],
      "execution_count": 5,
      "outputs": [
        {
          "output_type": "stream",
          "text": [
            "<class 'pandas.core.frame.DataFrame'>\n",
            "RangeIndex: 3333 entries, 0 to 3332\n",
            "Data columns (total 20 columns):\n",
            " #   Column                  Non-Null Count  Dtype  \n",
            "---  ------                  --------------  -----  \n",
            " 0   State                   3333 non-null   object \n",
            " 1   Account length          3333 non-null   int64  \n",
            " 2   Area code               3333 non-null   int64  \n",
            " 3   International plan      3333 non-null   object \n",
            " 4   Voice mail plan         3333 non-null   object \n",
            " 5   Number vmail messages   3333 non-null   int64  \n",
            " 6   Total day minutes       3333 non-null   float64\n",
            " 7   Total day calls         3333 non-null   int64  \n",
            " 8   Total day charge        3333 non-null   float64\n",
            " 9   Total eve minutes       3333 non-null   float64\n",
            " 10  Total eve calls         3333 non-null   int64  \n",
            " 11  Total eve charge        3333 non-null   float64\n",
            " 12  Total night minutes     3333 non-null   float64\n",
            " 13  Total night calls       3333 non-null   int64  \n",
            " 14  Total night charge      3333 non-null   float64\n",
            " 15  Total intl minutes      3333 non-null   float64\n",
            " 16  Total intl calls        3333 non-null   int64  \n",
            " 17  Total intl charge       3333 non-null   float64\n",
            " 18  Customer service calls  3333 non-null   int64  \n",
            " 19  Churn                   3333 non-null   bool   \n",
            "dtypes: bool(1), float64(8), int64(8), object(3)\n",
            "memory usage: 498.1+ KB\n"
          ],
          "name": "stdout"
        }
      ]
    },
    {
      "cell_type": "code",
      "metadata": {
        "colab": {
          "base_uri": "https://localhost:8080/",
          "height": 172
        },
        "id": "WDy_fKropdVD",
        "outputId": "23271b33-59fa-428f-d361-91bfabbdd258"
      },
      "source": [
        "pd.crosstab(tele_df[tele_df['Churn']==True]['Voice mail plan'],tele_df[tele_df['Churn']==True]['Number vmail messages'],margins=True)"
      ],
      "execution_count": 9,
      "outputs": [
        {
          "output_type": "execute_result",
          "data": {
            "text/html": [
              "<div>\n",
              "<style scoped>\n",
              "    .dataframe tbody tr th:only-of-type {\n",
              "        vertical-align: middle;\n",
              "    }\n",
              "\n",
              "    .dataframe tbody tr th {\n",
              "        vertical-align: top;\n",
              "    }\n",
              "\n",
              "    .dataframe thead th {\n",
              "        text-align: right;\n",
              "    }\n",
              "</style>\n",
              "<table border=\"1\" class=\"dataframe\">\n",
              "  <thead>\n",
              "    <tr style=\"text-align: right;\">\n",
              "      <th>Number vmail messages</th>\n",
              "      <th>0</th>\n",
              "      <th>15</th>\n",
              "      <th>16</th>\n",
              "      <th>17</th>\n",
              "      <th>18</th>\n",
              "      <th>19</th>\n",
              "      <th>20</th>\n",
              "      <th>21</th>\n",
              "      <th>22</th>\n",
              "      <th>24</th>\n",
              "      <th>26</th>\n",
              "      <th>27</th>\n",
              "      <th>28</th>\n",
              "      <th>29</th>\n",
              "      <th>30</th>\n",
              "      <th>31</th>\n",
              "      <th>32</th>\n",
              "      <th>33</th>\n",
              "      <th>34</th>\n",
              "      <th>35</th>\n",
              "      <th>36</th>\n",
              "      <th>37</th>\n",
              "      <th>38</th>\n",
              "      <th>40</th>\n",
              "      <th>41</th>\n",
              "      <th>42</th>\n",
              "      <th>44</th>\n",
              "      <th>45</th>\n",
              "      <th>48</th>\n",
              "      <th>All</th>\n",
              "    </tr>\n",
              "    <tr>\n",
              "      <th>Voice mail plan</th>\n",
              "      <th></th>\n",
              "      <th></th>\n",
              "      <th></th>\n",
              "      <th></th>\n",
              "      <th></th>\n",
              "      <th></th>\n",
              "      <th></th>\n",
              "      <th></th>\n",
              "      <th></th>\n",
              "      <th></th>\n",
              "      <th></th>\n",
              "      <th></th>\n",
              "      <th></th>\n",
              "      <th></th>\n",
              "      <th></th>\n",
              "      <th></th>\n",
              "      <th></th>\n",
              "      <th></th>\n",
              "      <th></th>\n",
              "      <th></th>\n",
              "      <th></th>\n",
              "      <th></th>\n",
              "      <th></th>\n",
              "      <th></th>\n",
              "      <th></th>\n",
              "      <th></th>\n",
              "      <th></th>\n",
              "      <th></th>\n",
              "      <th></th>\n",
              "      <th></th>\n",
              "    </tr>\n",
              "  </thead>\n",
              "  <tbody>\n",
              "    <tr>\n",
              "      <th>No</th>\n",
              "      <td>403</td>\n",
              "      <td>0</td>\n",
              "      <td>0</td>\n",
              "      <td>0</td>\n",
              "      <td>0</td>\n",
              "      <td>0</td>\n",
              "      <td>0</td>\n",
              "      <td>0</td>\n",
              "      <td>0</td>\n",
              "      <td>0</td>\n",
              "      <td>0</td>\n",
              "      <td>0</td>\n",
              "      <td>0</td>\n",
              "      <td>0</td>\n",
              "      <td>0</td>\n",
              "      <td>0</td>\n",
              "      <td>0</td>\n",
              "      <td>0</td>\n",
              "      <td>0</td>\n",
              "      <td>0</td>\n",
              "      <td>0</td>\n",
              "      <td>0</td>\n",
              "      <td>0</td>\n",
              "      <td>0</td>\n",
              "      <td>0</td>\n",
              "      <td>0</td>\n",
              "      <td>0</td>\n",
              "      <td>0</td>\n",
              "      <td>0</td>\n",
              "      <td>403</td>\n",
              "    </tr>\n",
              "    <tr>\n",
              "      <th>Yes</th>\n",
              "      <td>0</td>\n",
              "      <td>1</td>\n",
              "      <td>1</td>\n",
              "      <td>1</td>\n",
              "      <td>2</td>\n",
              "      <td>1</td>\n",
              "      <td>2</td>\n",
              "      <td>2</td>\n",
              "      <td>2</td>\n",
              "      <td>1</td>\n",
              "      <td>6</td>\n",
              "      <td>3</td>\n",
              "      <td>6</td>\n",
              "      <td>8</td>\n",
              "      <td>2</td>\n",
              "      <td>5</td>\n",
              "      <td>6</td>\n",
              "      <td>6</td>\n",
              "      <td>2</td>\n",
              "      <td>4</td>\n",
              "      <td>4</td>\n",
              "      <td>2</td>\n",
              "      <td>1</td>\n",
              "      <td>1</td>\n",
              "      <td>3</td>\n",
              "      <td>4</td>\n",
              "      <td>2</td>\n",
              "      <td>1</td>\n",
              "      <td>1</td>\n",
              "      <td>80</td>\n",
              "    </tr>\n",
              "    <tr>\n",
              "      <th>All</th>\n",
              "      <td>403</td>\n",
              "      <td>1</td>\n",
              "      <td>1</td>\n",
              "      <td>1</td>\n",
              "      <td>2</td>\n",
              "      <td>1</td>\n",
              "      <td>2</td>\n",
              "      <td>2</td>\n",
              "      <td>2</td>\n",
              "      <td>1</td>\n",
              "      <td>6</td>\n",
              "      <td>3</td>\n",
              "      <td>6</td>\n",
              "      <td>8</td>\n",
              "      <td>2</td>\n",
              "      <td>5</td>\n",
              "      <td>6</td>\n",
              "      <td>6</td>\n",
              "      <td>2</td>\n",
              "      <td>4</td>\n",
              "      <td>4</td>\n",
              "      <td>2</td>\n",
              "      <td>1</td>\n",
              "      <td>1</td>\n",
              "      <td>3</td>\n",
              "      <td>4</td>\n",
              "      <td>2</td>\n",
              "      <td>1</td>\n",
              "      <td>1</td>\n",
              "      <td>483</td>\n",
              "    </tr>\n",
              "  </tbody>\n",
              "</table>\n",
              "</div>"
            ],
            "text/plain": [
              "Number vmail messages    0  15  16  17  18  19  20  ...  40  41  42  44  45  48  All\n",
              "Voice mail plan                                     ...                             \n",
              "No                     403   0   0   0   0   0   0  ...   0   0   0   0   0   0  403\n",
              "Yes                      0   1   1   1   2   1   2  ...   1   3   4   2   1   1   80\n",
              "All                    403   1   1   1   2   1   2  ...   1   3   4   2   1   1  483\n",
              "\n",
              "[3 rows x 30 columns]"
            ]
          },
          "metadata": {
            "tags": []
          },
          "execution_count": 9
        }
      ]
    },
    {
      "cell_type": "markdown",
      "metadata": {
        "id": "CqUa47Oad1Uo"
      },
      "source": [
        "# **-------------------------------------------------------------------------------------------------------------------------------------------------------------**"
      ]
    },
    {
      "cell_type": "code",
      "metadata": {
        "id": "8e8hEQeA3Bg8"
      },
      "source": [
        "tdf1=tele_df"
      ],
      "execution_count": 11,
      "outputs": []
    },
    {
      "cell_type": "code",
      "metadata": {
        "id": "-6eY7BIxOvaj"
      },
      "source": [
        "tdf1.rename(columns={ 'Account length':'acc_length', 'Area code':'area_code', 'International plan':'intl_plan',\n",
        "       'Voice mail plan':'voice_mail_plan', 'Number vmail messages':'num_vmail_msg', 'Total day minutes':'ttl_day_min',\n",
        "       'Total day calls':'ttl_day_calls', 'Total day charge':'ttl_day_chrg', 'Total eve minutes':'ttl_eve_min',\n",
        "       'Total eve calls':'ttl_eve_calls', 'Total eve charge':'ttl_eve_chrg', 'Total night minutes':'ttl_nyt_min',\n",
        "       'Total night calls':'ttl_nyt_calls', 'Total night charge':'ttl_nyt_chrg', 'Total intl minutes':'ttl_intl_min',\n",
        "       'Total intl calls':'ttl_intl_calls', 'Total intl charge':'ttl_intl_chrg', 'Customer service calls':'cust_servc_calls'},inplace=True)"
      ],
      "execution_count": 12,
      "outputs": []
    },
    {
      "cell_type": "code",
      "metadata": {
        "colab": {
          "base_uri": "https://localhost:8080/"
        },
        "id": "FB0dqVgb_oaO",
        "outputId": "ac8c349e-6e15-4aba-ccb4-7d6e8e31a506"
      },
      "source": [
        "type(tdf1['cust_servc_calls'][0])"
      ],
      "execution_count": 23,
      "outputs": [
        {
          "output_type": "execute_result",
          "data": {
            "text/plain": [
              "numpy.int64"
            ]
          },
          "metadata": {
            "tags": []
          },
          "execution_count": 23
        }
      ]
    },
    {
      "cell_type": "code",
      "metadata": {
        "colab": {
          "base_uri": "https://localhost:8080/",
          "height": 435
        },
        "id": "5GkJj0TJ_VYR",
        "outputId": "76234a31-c947-4d56-d1d3-d78391ce1110"
      },
      "source": [
        "tdf1[( tdf1['Churn']==True) & (tdf1['cust_servc_calls'] > 3)]"
      ],
      "execution_count": 27,
      "outputs": [
        {
          "output_type": "execute_result",
          "data": {
            "text/html": [
              "<div>\n",
              "<style scoped>\n",
              "    .dataframe tbody tr th:only-of-type {\n",
              "        vertical-align: middle;\n",
              "    }\n",
              "\n",
              "    .dataframe tbody tr th {\n",
              "        vertical-align: top;\n",
              "    }\n",
              "\n",
              "    .dataframe thead th {\n",
              "        text-align: right;\n",
              "    }\n",
              "</style>\n",
              "<table border=\"1\" class=\"dataframe\">\n",
              "  <thead>\n",
              "    <tr style=\"text-align: right;\">\n",
              "      <th></th>\n",
              "      <th>State</th>\n",
              "      <th>acc_length</th>\n",
              "      <th>area_code</th>\n",
              "      <th>intl_plan</th>\n",
              "      <th>voice_mail_plan</th>\n",
              "      <th>num_vmail_msg</th>\n",
              "      <th>ttl_day_min</th>\n",
              "      <th>ttl_day_calls</th>\n",
              "      <th>ttl_day_chrg</th>\n",
              "      <th>ttl_eve_min</th>\n",
              "      <th>ttl_eve_calls</th>\n",
              "      <th>ttl_eve_chrg</th>\n",
              "      <th>ttl_nyt_min</th>\n",
              "      <th>ttl_nyt_calls</th>\n",
              "      <th>ttl_nyt_chrg</th>\n",
              "      <th>ttl_intl_min</th>\n",
              "      <th>ttl_intl_calls</th>\n",
              "      <th>ttl_intl_chrg</th>\n",
              "      <th>cust_servc_calls</th>\n",
              "      <th>Churn</th>\n",
              "    </tr>\n",
              "  </thead>\n",
              "  <tbody>\n",
              "    <tr>\n",
              "      <th>10</th>\n",
              "      <td>IN</td>\n",
              "      <td>65</td>\n",
              "      <td>415</td>\n",
              "      <td>No</td>\n",
              "      <td>No</td>\n",
              "      <td>0</td>\n",
              "      <td>129.1</td>\n",
              "      <td>137</td>\n",
              "      <td>21.95</td>\n",
              "      <td>228.5</td>\n",
              "      <td>83</td>\n",
              "      <td>19.42</td>\n",
              "      <td>208.8</td>\n",
              "      <td>111</td>\n",
              "      <td>9.40</td>\n",
              "      <td>12.7</td>\n",
              "      <td>6</td>\n",
              "      <td>3.43</td>\n",
              "      <td>4</td>\n",
              "      <td>True</td>\n",
              "    </tr>\n",
              "    <tr>\n",
              "      <th>15</th>\n",
              "      <td>NY</td>\n",
              "      <td>161</td>\n",
              "      <td>415</td>\n",
              "      <td>No</td>\n",
              "      <td>No</td>\n",
              "      <td>0</td>\n",
              "      <td>332.9</td>\n",
              "      <td>67</td>\n",
              "      <td>56.59</td>\n",
              "      <td>317.8</td>\n",
              "      <td>97</td>\n",
              "      <td>27.01</td>\n",
              "      <td>160.6</td>\n",
              "      <td>128</td>\n",
              "      <td>7.23</td>\n",
              "      <td>5.4</td>\n",
              "      <td>9</td>\n",
              "      <td>1.46</td>\n",
              "      <td>4</td>\n",
              "      <td>True</td>\n",
              "    </tr>\n",
              "    <tr>\n",
              "      <th>21</th>\n",
              "      <td>CO</td>\n",
              "      <td>77</td>\n",
              "      <td>408</td>\n",
              "      <td>No</td>\n",
              "      <td>No</td>\n",
              "      <td>0</td>\n",
              "      <td>62.4</td>\n",
              "      <td>89</td>\n",
              "      <td>10.61</td>\n",
              "      <td>169.9</td>\n",
              "      <td>121</td>\n",
              "      <td>14.44</td>\n",
              "      <td>209.6</td>\n",
              "      <td>64</td>\n",
              "      <td>9.43</td>\n",
              "      <td>5.7</td>\n",
              "      <td>6</td>\n",
              "      <td>1.54</td>\n",
              "      <td>5</td>\n",
              "      <td>True</td>\n",
              "    </tr>\n",
              "    <tr>\n",
              "      <th>48</th>\n",
              "      <td>ID</td>\n",
              "      <td>119</td>\n",
              "      <td>415</td>\n",
              "      <td>No</td>\n",
              "      <td>No</td>\n",
              "      <td>0</td>\n",
              "      <td>159.1</td>\n",
              "      <td>114</td>\n",
              "      <td>27.05</td>\n",
              "      <td>231.3</td>\n",
              "      <td>117</td>\n",
              "      <td>19.66</td>\n",
              "      <td>143.2</td>\n",
              "      <td>91</td>\n",
              "      <td>6.44</td>\n",
              "      <td>8.8</td>\n",
              "      <td>3</td>\n",
              "      <td>2.38</td>\n",
              "      <td>5</td>\n",
              "      <td>True</td>\n",
              "    </tr>\n",
              "    <tr>\n",
              "      <th>54</th>\n",
              "      <td>WY</td>\n",
              "      <td>87</td>\n",
              "      <td>415</td>\n",
              "      <td>No</td>\n",
              "      <td>No</td>\n",
              "      <td>0</td>\n",
              "      <td>151.0</td>\n",
              "      <td>83</td>\n",
              "      <td>25.67</td>\n",
              "      <td>219.7</td>\n",
              "      <td>116</td>\n",
              "      <td>18.67</td>\n",
              "      <td>203.9</td>\n",
              "      <td>127</td>\n",
              "      <td>9.18</td>\n",
              "      <td>9.7</td>\n",
              "      <td>3</td>\n",
              "      <td>2.62</td>\n",
              "      <td>5</td>\n",
              "      <td>True</td>\n",
              "    </tr>\n",
              "    <tr>\n",
              "      <th>...</th>\n",
              "      <td>...</td>\n",
              "      <td>...</td>\n",
              "      <td>...</td>\n",
              "      <td>...</td>\n",
              "      <td>...</td>\n",
              "      <td>...</td>\n",
              "      <td>...</td>\n",
              "      <td>...</td>\n",
              "      <td>...</td>\n",
              "      <td>...</td>\n",
              "      <td>...</td>\n",
              "      <td>...</td>\n",
              "      <td>...</td>\n",
              "      <td>...</td>\n",
              "      <td>...</td>\n",
              "      <td>...</td>\n",
              "      <td>...</td>\n",
              "      <td>...</td>\n",
              "      <td>...</td>\n",
              "      <td>...</td>\n",
              "    </tr>\n",
              "    <tr>\n",
              "      <th>3287</th>\n",
              "      <td>KS</td>\n",
              "      <td>170</td>\n",
              "      <td>415</td>\n",
              "      <td>No</td>\n",
              "      <td>Yes</td>\n",
              "      <td>42</td>\n",
              "      <td>199.5</td>\n",
              "      <td>119</td>\n",
              "      <td>33.92</td>\n",
              "      <td>135.0</td>\n",
              "      <td>90</td>\n",
              "      <td>11.48</td>\n",
              "      <td>184.6</td>\n",
              "      <td>49</td>\n",
              "      <td>8.31</td>\n",
              "      <td>10.9</td>\n",
              "      <td>3</td>\n",
              "      <td>2.94</td>\n",
              "      <td>4</td>\n",
              "      <td>True</td>\n",
              "    </tr>\n",
              "    <tr>\n",
              "      <th>3304</th>\n",
              "      <td>IL</td>\n",
              "      <td>71</td>\n",
              "      <td>510</td>\n",
              "      <td>Yes</td>\n",
              "      <td>No</td>\n",
              "      <td>0</td>\n",
              "      <td>186.1</td>\n",
              "      <td>114</td>\n",
              "      <td>31.64</td>\n",
              "      <td>198.6</td>\n",
              "      <td>140</td>\n",
              "      <td>16.88</td>\n",
              "      <td>206.5</td>\n",
              "      <td>80</td>\n",
              "      <td>9.29</td>\n",
              "      <td>13.8</td>\n",
              "      <td>5</td>\n",
              "      <td>3.73</td>\n",
              "      <td>4</td>\n",
              "      <td>True</td>\n",
              "    </tr>\n",
              "    <tr>\n",
              "      <th>3320</th>\n",
              "      <td>GA</td>\n",
              "      <td>122</td>\n",
              "      <td>510</td>\n",
              "      <td>Yes</td>\n",
              "      <td>No</td>\n",
              "      <td>0</td>\n",
              "      <td>140.0</td>\n",
              "      <td>101</td>\n",
              "      <td>23.80</td>\n",
              "      <td>196.4</td>\n",
              "      <td>77</td>\n",
              "      <td>16.69</td>\n",
              "      <td>120.1</td>\n",
              "      <td>133</td>\n",
              "      <td>5.40</td>\n",
              "      <td>9.7</td>\n",
              "      <td>4</td>\n",
              "      <td>2.62</td>\n",
              "      <td>4</td>\n",
              "      <td>True</td>\n",
              "    </tr>\n",
              "    <tr>\n",
              "      <th>3322</th>\n",
              "      <td>MD</td>\n",
              "      <td>62</td>\n",
              "      <td>408</td>\n",
              "      <td>No</td>\n",
              "      <td>No</td>\n",
              "      <td>0</td>\n",
              "      <td>321.1</td>\n",
              "      <td>105</td>\n",
              "      <td>54.59</td>\n",
              "      <td>265.5</td>\n",
              "      <td>122</td>\n",
              "      <td>22.57</td>\n",
              "      <td>180.5</td>\n",
              "      <td>72</td>\n",
              "      <td>8.12</td>\n",
              "      <td>11.5</td>\n",
              "      <td>2</td>\n",
              "      <td>3.11</td>\n",
              "      <td>4</td>\n",
              "      <td>True</td>\n",
              "    </tr>\n",
              "    <tr>\n",
              "      <th>3323</th>\n",
              "      <td>IN</td>\n",
              "      <td>117</td>\n",
              "      <td>415</td>\n",
              "      <td>No</td>\n",
              "      <td>No</td>\n",
              "      <td>0</td>\n",
              "      <td>118.4</td>\n",
              "      <td>126</td>\n",
              "      <td>20.13</td>\n",
              "      <td>249.3</td>\n",
              "      <td>97</td>\n",
              "      <td>21.19</td>\n",
              "      <td>227.0</td>\n",
              "      <td>56</td>\n",
              "      <td>10.22</td>\n",
              "      <td>13.6</td>\n",
              "      <td>3</td>\n",
              "      <td>3.67</td>\n",
              "      <td>5</td>\n",
              "      <td>True</td>\n",
              "    </tr>\n",
              "  </tbody>\n",
              "</table>\n",
              "<p>138 rows × 20 columns</p>\n",
              "</div>"
            ],
            "text/plain": [
              "     State  acc_length  area_code  ... ttl_intl_chrg cust_servc_calls  Churn\n",
              "10      IN          65        415  ...          3.43                4   True\n",
              "15      NY         161        415  ...          1.46                4   True\n",
              "21      CO          77        408  ...          1.54                5   True\n",
              "48      ID         119        415  ...          2.38                5   True\n",
              "54      WY          87        415  ...          2.62                5   True\n",
              "...    ...         ...        ...  ...           ...              ...    ...\n",
              "3287    KS         170        415  ...          2.94                4   True\n",
              "3304    IL          71        510  ...          3.73                4   True\n",
              "3320    GA         122        510  ...          2.62                4   True\n",
              "3322    MD          62        408  ...          3.11                4   True\n",
              "3323    IN         117        415  ...          3.67                5   True\n",
              "\n",
              "[138 rows x 20 columns]"
            ]
          },
          "metadata": {
            "tags": []
          },
          "execution_count": 27
        }
      ]
    },
    {
      "cell_type": "code",
      "metadata": {
        "colab": {
          "base_uri": "https://localhost:8080/"
        },
        "id": "G3sPk7jTQ03C",
        "outputId": "b43e1f0b-0afc-4266-a017-36f3460f5702"
      },
      "source": [
        "tdf1.info()"
      ],
      "execution_count": 247,
      "outputs": [
        {
          "output_type": "stream",
          "text": [
            "<class 'pandas.core.frame.DataFrame'>\n",
            "RangeIndex: 3333 entries, 0 to 3332\n",
            "Data columns (total 20 columns):\n",
            " #   Column            Non-Null Count  Dtype  \n",
            "---  ------            --------------  -----  \n",
            " 0   State             3333 non-null   object \n",
            " 1   acc_length        3333 non-null   int64  \n",
            " 2   area_code         3333 non-null   int64  \n",
            " 3   intl_plan         3333 non-null   object \n",
            " 4   voice_mail_plan   3333 non-null   object \n",
            " 5   num_vmail_msg     3333 non-null   int64  \n",
            " 6   ttl_day_min       3333 non-null   float64\n",
            " 7   ttl_day_calls     3333 non-null   int64  \n",
            " 8   ttl_day_chrg      3333 non-null   float64\n",
            " 9   ttl_eve_min       3333 non-null   float64\n",
            " 10  ttl_eve_calls     3333 non-null   int64  \n",
            " 11  ttl_eve_chrg      3333 non-null   float64\n",
            " 12  ttl_nyt_min       3333 non-null   float64\n",
            " 13  ttl_nyt_calls     3333 non-null   int64  \n",
            " 14  ttl_nyt_chrg      3333 non-null   float64\n",
            " 15  ttl_intl_min      3333 non-null   float64\n",
            " 16  ttl_intl_calls    3333 non-null   int64  \n",
            " 17  ttl_intl_chrg     3333 non-null   float64\n",
            " 18  cust_servc_calls  3333 non-null   int64  \n",
            " 19  Churn             3333 non-null   bool   \n",
            "dtypes: bool(1), float64(8), int64(8), object(3)\n",
            "memory usage: 498.1+ KB\n"
          ],
          "name": "stdout"
        }
      ]
    },
    {
      "cell_type": "code",
      "metadata": {
        "id": "tEwR4DCESY_G"
      },
      "source": [
        "# sns.countplot(x = 'ttl_day_calls', hue = 'ttl_day_min', data = tdf1)"
      ],
      "execution_count": 251,
      "outputs": []
    },
    {
      "cell_type": "code",
      "metadata": {
        "id": "8di3oXhPVdEd"
      },
      "source": [
        "tdf_CT=tdf1[tdf1['Churn']==True]"
      ],
      "execution_count": 266,
      "outputs": []
    },
    {
      "cell_type": "code",
      "metadata": {
        "id": "cFbBOhWcYQYO"
      },
      "source": [
        "tdf_CF=tdf1[tdf1['Churn']==False]"
      ],
      "execution_count": 267,
      "outputs": []
    },
    {
      "cell_type": "code",
      "metadata": {
        "colab": {
          "base_uri": "https://localhost:8080/",
          "height": 314
        },
        "id": "C7l6q-UjYa0c",
        "outputId": "6520d2c7-97e4-4d0a-ea6d-51a41a7a92d7"
      },
      "source": [
        "tdf_CT.describe()"
      ],
      "execution_count": 268,
      "outputs": [
        {
          "output_type": "execute_result",
          "data": {
            "text/html": [
              "<div>\n",
              "<style scoped>\n",
              "    .dataframe tbody tr th:only-of-type {\n",
              "        vertical-align: middle;\n",
              "    }\n",
              "\n",
              "    .dataframe tbody tr th {\n",
              "        vertical-align: top;\n",
              "    }\n",
              "\n",
              "    .dataframe thead th {\n",
              "        text-align: right;\n",
              "    }\n",
              "</style>\n",
              "<table border=\"1\" class=\"dataframe\">\n",
              "  <thead>\n",
              "    <tr style=\"text-align: right;\">\n",
              "      <th></th>\n",
              "      <th>acc_length</th>\n",
              "      <th>area_code</th>\n",
              "      <th>num_vmail_msg</th>\n",
              "      <th>ttl_day_min</th>\n",
              "      <th>ttl_day_calls</th>\n",
              "      <th>ttl_day_chrg</th>\n",
              "      <th>ttl_eve_min</th>\n",
              "      <th>ttl_eve_calls</th>\n",
              "      <th>ttl_eve_chrg</th>\n",
              "      <th>ttl_nyt_min</th>\n",
              "      <th>ttl_nyt_calls</th>\n",
              "      <th>ttl_nyt_chrg</th>\n",
              "      <th>ttl_intl_min</th>\n",
              "      <th>ttl_intl_calls</th>\n",
              "      <th>ttl_intl_chrg</th>\n",
              "      <th>cust_servc_calls</th>\n",
              "    </tr>\n",
              "  </thead>\n",
              "  <tbody>\n",
              "    <tr>\n",
              "      <th>count</th>\n",
              "      <td>483.000000</td>\n",
              "      <td>483.000000</td>\n",
              "      <td>483.000000</td>\n",
              "      <td>483.000000</td>\n",
              "      <td>483.000000</td>\n",
              "      <td>483.000000</td>\n",
              "      <td>483.000000</td>\n",
              "      <td>483.000000</td>\n",
              "      <td>483.000000</td>\n",
              "      <td>483.000000</td>\n",
              "      <td>483.000000</td>\n",
              "      <td>483.000000</td>\n",
              "      <td>483.00000</td>\n",
              "      <td>483.000000</td>\n",
              "      <td>483.000000</td>\n",
              "      <td>483.000000</td>\n",
              "    </tr>\n",
              "    <tr>\n",
              "      <th>mean</th>\n",
              "      <td>102.664596</td>\n",
              "      <td>437.817805</td>\n",
              "      <td>5.115942</td>\n",
              "      <td>206.914079</td>\n",
              "      <td>101.335404</td>\n",
              "      <td>35.175921</td>\n",
              "      <td>212.410145</td>\n",
              "      <td>100.561077</td>\n",
              "      <td>18.054969</td>\n",
              "      <td>205.231677</td>\n",
              "      <td>100.399586</td>\n",
              "      <td>9.235528</td>\n",
              "      <td>10.70000</td>\n",
              "      <td>4.163561</td>\n",
              "      <td>2.889545</td>\n",
              "      <td>2.229814</td>\n",
              "    </tr>\n",
              "    <tr>\n",
              "      <th>std</th>\n",
              "      <td>39.467820</td>\n",
              "      <td>42.792270</td>\n",
              "      <td>11.860138</td>\n",
              "      <td>68.997792</td>\n",
              "      <td>21.582307</td>\n",
              "      <td>11.729710</td>\n",
              "      <td>51.728910</td>\n",
              "      <td>19.724711</td>\n",
              "      <td>4.396762</td>\n",
              "      <td>47.132825</td>\n",
              "      <td>19.950659</td>\n",
              "      <td>2.121081</td>\n",
              "      <td>2.79319</td>\n",
              "      <td>2.551575</td>\n",
              "      <td>0.754152</td>\n",
              "      <td>1.853275</td>\n",
              "    </tr>\n",
              "    <tr>\n",
              "      <th>min</th>\n",
              "      <td>1.000000</td>\n",
              "      <td>408.000000</td>\n",
              "      <td>0.000000</td>\n",
              "      <td>0.000000</td>\n",
              "      <td>0.000000</td>\n",
              "      <td>0.000000</td>\n",
              "      <td>70.900000</td>\n",
              "      <td>48.000000</td>\n",
              "      <td>6.030000</td>\n",
              "      <td>47.400000</td>\n",
              "      <td>49.000000</td>\n",
              "      <td>2.130000</td>\n",
              "      <td>2.00000</td>\n",
              "      <td>1.000000</td>\n",
              "      <td>0.540000</td>\n",
              "      <td>0.000000</td>\n",
              "    </tr>\n",
              "    <tr>\n",
              "      <th>25%</th>\n",
              "      <td>76.000000</td>\n",
              "      <td>408.000000</td>\n",
              "      <td>0.000000</td>\n",
              "      <td>153.250000</td>\n",
              "      <td>87.500000</td>\n",
              "      <td>26.055000</td>\n",
              "      <td>177.100000</td>\n",
              "      <td>87.000000</td>\n",
              "      <td>15.055000</td>\n",
              "      <td>171.250000</td>\n",
              "      <td>85.000000</td>\n",
              "      <td>7.705000</td>\n",
              "      <td>8.80000</td>\n",
              "      <td>2.000000</td>\n",
              "      <td>2.380000</td>\n",
              "      <td>1.000000</td>\n",
              "    </tr>\n",
              "    <tr>\n",
              "      <th>50%</th>\n",
              "      <td>103.000000</td>\n",
              "      <td>415.000000</td>\n",
              "      <td>0.000000</td>\n",
              "      <td>217.600000</td>\n",
              "      <td>103.000000</td>\n",
              "      <td>36.990000</td>\n",
              "      <td>211.300000</td>\n",
              "      <td>101.000000</td>\n",
              "      <td>17.960000</td>\n",
              "      <td>204.800000</td>\n",
              "      <td>100.000000</td>\n",
              "      <td>9.220000</td>\n",
              "      <td>10.60000</td>\n",
              "      <td>4.000000</td>\n",
              "      <td>2.860000</td>\n",
              "      <td>2.000000</td>\n",
              "    </tr>\n",
              "    <tr>\n",
              "      <th>75%</th>\n",
              "      <td>127.000000</td>\n",
              "      <td>510.000000</td>\n",
              "      <td>0.000000</td>\n",
              "      <td>265.950000</td>\n",
              "      <td>116.500000</td>\n",
              "      <td>45.210000</td>\n",
              "      <td>249.450000</td>\n",
              "      <td>114.000000</td>\n",
              "      <td>21.205000</td>\n",
              "      <td>239.850000</td>\n",
              "      <td>115.000000</td>\n",
              "      <td>10.795000</td>\n",
              "      <td>12.80000</td>\n",
              "      <td>5.000000</td>\n",
              "      <td>3.460000</td>\n",
              "      <td>4.000000</td>\n",
              "    </tr>\n",
              "    <tr>\n",
              "      <th>max</th>\n",
              "      <td>225.000000</td>\n",
              "      <td>510.000000</td>\n",
              "      <td>48.000000</td>\n",
              "      <td>350.800000</td>\n",
              "      <td>165.000000</td>\n",
              "      <td>59.640000</td>\n",
              "      <td>363.700000</td>\n",
              "      <td>168.000000</td>\n",
              "      <td>30.910000</td>\n",
              "      <td>354.900000</td>\n",
              "      <td>158.000000</td>\n",
              "      <td>15.970000</td>\n",
              "      <td>20.00000</td>\n",
              "      <td>20.000000</td>\n",
              "      <td>5.400000</td>\n",
              "      <td>9.000000</td>\n",
              "    </tr>\n",
              "  </tbody>\n",
              "</table>\n",
              "</div>"
            ],
            "text/plain": [
              "       acc_length   area_code  ...  ttl_intl_chrg  cust_servc_calls\n",
              "count  483.000000  483.000000  ...     483.000000        483.000000\n",
              "mean   102.664596  437.817805  ...       2.889545          2.229814\n",
              "std     39.467820   42.792270  ...       0.754152          1.853275\n",
              "min      1.000000  408.000000  ...       0.540000          0.000000\n",
              "25%     76.000000  408.000000  ...       2.380000          1.000000\n",
              "50%    103.000000  415.000000  ...       2.860000          2.000000\n",
              "75%    127.000000  510.000000  ...       3.460000          4.000000\n",
              "max    225.000000  510.000000  ...       5.400000          9.000000\n",
              "\n",
              "[8 rows x 16 columns]"
            ]
          },
          "metadata": {
            "tags": []
          },
          "execution_count": 268
        }
      ]
    },
    {
      "cell_type": "code",
      "metadata": {
        "colab": {
          "base_uri": "https://localhost:8080/",
          "height": 314
        },
        "id": "-NEnfWhXYd93",
        "outputId": "981a13ac-fb7e-4edb-b6d5-6548c76cc0fd"
      },
      "source": [
        "tdf_CF.describe()"
      ],
      "execution_count": 269,
      "outputs": [
        {
          "output_type": "execute_result",
          "data": {
            "text/html": [
              "<div>\n",
              "<style scoped>\n",
              "    .dataframe tbody tr th:only-of-type {\n",
              "        vertical-align: middle;\n",
              "    }\n",
              "\n",
              "    .dataframe tbody tr th {\n",
              "        vertical-align: top;\n",
              "    }\n",
              "\n",
              "    .dataframe thead th {\n",
              "        text-align: right;\n",
              "    }\n",
              "</style>\n",
              "<table border=\"1\" class=\"dataframe\">\n",
              "  <thead>\n",
              "    <tr style=\"text-align: right;\">\n",
              "      <th></th>\n",
              "      <th>acc_length</th>\n",
              "      <th>area_code</th>\n",
              "      <th>num_vmail_msg</th>\n",
              "      <th>ttl_day_min</th>\n",
              "      <th>ttl_day_calls</th>\n",
              "      <th>ttl_day_chrg</th>\n",
              "      <th>ttl_eve_min</th>\n",
              "      <th>ttl_eve_calls</th>\n",
              "      <th>ttl_eve_chrg</th>\n",
              "      <th>ttl_nyt_min</th>\n",
              "      <th>ttl_nyt_calls</th>\n",
              "      <th>ttl_nyt_chrg</th>\n",
              "      <th>ttl_intl_min</th>\n",
              "      <th>ttl_intl_calls</th>\n",
              "      <th>ttl_intl_chrg</th>\n",
              "      <th>cust_servc_calls</th>\n",
              "    </tr>\n",
              "  </thead>\n",
              "  <tbody>\n",
              "    <tr>\n",
              "      <th>count</th>\n",
              "      <td>2850.000000</td>\n",
              "      <td>2850.000000</td>\n",
              "      <td>2850.000000</td>\n",
              "      <td>2850.000000</td>\n",
              "      <td>2850.000000</td>\n",
              "      <td>2850.000000</td>\n",
              "      <td>2850.000000</td>\n",
              "      <td>2850.000000</td>\n",
              "      <td>2850.000000</td>\n",
              "      <td>2850.000000</td>\n",
              "      <td>2850.000000</td>\n",
              "      <td>2850.000000</td>\n",
              "      <td>2850.000000</td>\n",
              "      <td>2850.000000</td>\n",
              "      <td>2850.000000</td>\n",
              "      <td>2850.000000</td>\n",
              "    </tr>\n",
              "    <tr>\n",
              "      <th>mean</th>\n",
              "      <td>100.793684</td>\n",
              "      <td>437.074737</td>\n",
              "      <td>8.604561</td>\n",
              "      <td>175.175754</td>\n",
              "      <td>100.283158</td>\n",
              "      <td>29.780421</td>\n",
              "      <td>199.043298</td>\n",
              "      <td>100.038596</td>\n",
              "      <td>16.918909</td>\n",
              "      <td>200.133193</td>\n",
              "      <td>100.058246</td>\n",
              "      <td>9.006074</td>\n",
              "      <td>10.158877</td>\n",
              "      <td>4.532982</td>\n",
              "      <td>2.743404</td>\n",
              "      <td>1.449825</td>\n",
              "    </tr>\n",
              "    <tr>\n",
              "      <th>std</th>\n",
              "      <td>39.882350</td>\n",
              "      <td>42.306156</td>\n",
              "      <td>13.913125</td>\n",
              "      <td>50.181655</td>\n",
              "      <td>19.801157</td>\n",
              "      <td>8.530835</td>\n",
              "      <td>50.292175</td>\n",
              "      <td>19.958414</td>\n",
              "      <td>4.274863</td>\n",
              "      <td>51.105032</td>\n",
              "      <td>19.506246</td>\n",
              "      <td>2.299768</td>\n",
              "      <td>2.784489</td>\n",
              "      <td>2.441984</td>\n",
              "      <td>0.751784</td>\n",
              "      <td>1.163883</td>\n",
              "    </tr>\n",
              "    <tr>\n",
              "      <th>min</th>\n",
              "      <td>1.000000</td>\n",
              "      <td>408.000000</td>\n",
              "      <td>0.000000</td>\n",
              "      <td>0.000000</td>\n",
              "      <td>0.000000</td>\n",
              "      <td>0.000000</td>\n",
              "      <td>0.000000</td>\n",
              "      <td>0.000000</td>\n",
              "      <td>0.000000</td>\n",
              "      <td>23.200000</td>\n",
              "      <td>33.000000</td>\n",
              "      <td>1.040000</td>\n",
              "      <td>0.000000</td>\n",
              "      <td>0.000000</td>\n",
              "      <td>0.000000</td>\n",
              "      <td>0.000000</td>\n",
              "    </tr>\n",
              "    <tr>\n",
              "      <th>25%</th>\n",
              "      <td>73.000000</td>\n",
              "      <td>408.000000</td>\n",
              "      <td>0.000000</td>\n",
              "      <td>142.825000</td>\n",
              "      <td>87.000000</td>\n",
              "      <td>24.282500</td>\n",
              "      <td>164.500000</td>\n",
              "      <td>87.000000</td>\n",
              "      <td>13.980000</td>\n",
              "      <td>165.900000</td>\n",
              "      <td>87.000000</td>\n",
              "      <td>7.470000</td>\n",
              "      <td>8.400000</td>\n",
              "      <td>3.000000</td>\n",
              "      <td>2.270000</td>\n",
              "      <td>1.000000</td>\n",
              "    </tr>\n",
              "    <tr>\n",
              "      <th>50%</th>\n",
              "      <td>100.000000</td>\n",
              "      <td>415.000000</td>\n",
              "      <td>0.000000</td>\n",
              "      <td>177.200000</td>\n",
              "      <td>100.000000</td>\n",
              "      <td>30.120000</td>\n",
              "      <td>199.600000</td>\n",
              "      <td>100.000000</td>\n",
              "      <td>16.970000</td>\n",
              "      <td>200.250000</td>\n",
              "      <td>100.000000</td>\n",
              "      <td>9.010000</td>\n",
              "      <td>10.200000</td>\n",
              "      <td>4.000000</td>\n",
              "      <td>2.750000</td>\n",
              "      <td>1.000000</td>\n",
              "    </tr>\n",
              "    <tr>\n",
              "      <th>75%</th>\n",
              "      <td>127.000000</td>\n",
              "      <td>510.000000</td>\n",
              "      <td>22.000000</td>\n",
              "      <td>210.300000</td>\n",
              "      <td>114.000000</td>\n",
              "      <td>35.750000</td>\n",
              "      <td>233.200000</td>\n",
              "      <td>114.000000</td>\n",
              "      <td>19.820000</td>\n",
              "      <td>234.900000</td>\n",
              "      <td>113.000000</td>\n",
              "      <td>10.570000</td>\n",
              "      <td>12.000000</td>\n",
              "      <td>6.000000</td>\n",
              "      <td>3.240000</td>\n",
              "      <td>2.000000</td>\n",
              "    </tr>\n",
              "    <tr>\n",
              "      <th>max</th>\n",
              "      <td>243.000000</td>\n",
              "      <td>510.000000</td>\n",
              "      <td>51.000000</td>\n",
              "      <td>315.600000</td>\n",
              "      <td>163.000000</td>\n",
              "      <td>53.650000</td>\n",
              "      <td>361.800000</td>\n",
              "      <td>170.000000</td>\n",
              "      <td>30.750000</td>\n",
              "      <td>395.000000</td>\n",
              "      <td>175.000000</td>\n",
              "      <td>17.770000</td>\n",
              "      <td>18.900000</td>\n",
              "      <td>19.000000</td>\n",
              "      <td>5.100000</td>\n",
              "      <td>8.000000</td>\n",
              "    </tr>\n",
              "  </tbody>\n",
              "</table>\n",
              "</div>"
            ],
            "text/plain": [
              "        acc_length    area_code  ...  ttl_intl_chrg  cust_servc_calls\n",
              "count  2850.000000  2850.000000  ...    2850.000000       2850.000000\n",
              "mean    100.793684   437.074737  ...       2.743404          1.449825\n",
              "std      39.882350    42.306156  ...       0.751784          1.163883\n",
              "min       1.000000   408.000000  ...       0.000000          0.000000\n",
              "25%      73.000000   408.000000  ...       2.270000          1.000000\n",
              "50%     100.000000   415.000000  ...       2.750000          1.000000\n",
              "75%     127.000000   510.000000  ...       3.240000          2.000000\n",
              "max     243.000000   510.000000  ...       5.100000          8.000000\n",
              "\n",
              "[8 rows x 16 columns]"
            ]
          },
          "metadata": {
            "tags": []
          },
          "execution_count": 269
        }
      ]
    },
    {
      "cell_type": "code",
      "metadata": {
        "id": "SaNTQqzsYhyx"
      },
      "source": [
        "#                   acc_length\tarea_code\t  num_vmail_msg\t  ttl_day_min\t ttl_day_calls\tttl_day_chrg\tttl_eve_min\t  ttl_eve_calls\t ttl_eve_chrg\t ttl_nyt_min\tttl_nyt_calls\t ttl_nyt_chrg\t ttl_intl_min\t ttl_intl_calls\t ttl_intl_chrg\tcust_servc_calls\n",
        "\n",
        "# mean_churn False\t100.793684\t437.074737\t8.604561\t      175.175754\t 100.283158\t    29.780421\t    199.043298\t  100.038596\t   16.918909\t   200.133193\t   100.058246\t   9.006074\t     10.158877\t   4.532982\t       2.743404\t       1.449825\n",
        "\n",
        "# mean_churn True \t102.664596\t437.817805\t5.115942\t      206.914079\t 101.335404\t    35.175921\t    212.410145\t  100.561077\t   18.054969\t   205.231677\t   100.399586\t    9.235528\t   10.70000\t     4.163561\t       2.889545\t       2.229814\n"
      ],
      "execution_count": 270,
      "outputs": []
    },
    {
      "cell_type": "markdown",
      "metadata": {
        "id": "N0Smjz3IcfUK"
      },
      "source": [
        "Observtion from above data:-\n",
        "\n",
        "1.Churning customer are facing higher day call charges then other timelines ----not\n",
        "\n",
        "2.they are making more day calls then other timeline (in number of calls)\n",
        "\n",
        "3.their call duration for daytime is more as compare to other timeline (in minutes)\n",
        "\n",
        "4.loyal customer prefer voice mail more than churning customer(when network is busy)"
      ]
    },
    {
      "cell_type": "code",
      "metadata": {
        "colab": {
          "base_uri": "https://localhost:8080/",
          "height": 332
        },
        "id": "DSId9jeZza9w",
        "outputId": "7a79fa37-70e6-4d31-c335-83340ffc50b8"
      },
      "source": [
        "plt.hist(tdf1['ttl_day_min'])"
      ],
      "execution_count": 13,
      "outputs": [
        {
          "output_type": "execute_result",
          "data": {
            "text/plain": [
              "(array([ 14.,  67., 201., 479., 798., 812., 594., 264.,  84.,  20.]),\n",
              " array([  0.  ,  35.08,  70.16, 105.24, 140.32, 175.4 , 210.48, 245.56,\n",
              "        280.64, 315.72, 350.8 ]),\n",
              " <a list of 10 Patch objects>)"
            ]
          },
          "metadata": {
            "tags": []
          },
          "execution_count": 13
        },
        {
          "output_type": "display_data",
          "data": {
            "image/png": "[encoded data removed]",
            "text/plain": [
              "<Figure size 432x288 with 1 Axes>"
            ]
          },
          "metadata": {
            "tags": [],
            "needs_background": "light"
          }
        }
      ]
    },
    {
      "cell_type": "code",
      "metadata": {
        "colab": {
          "base_uri": "https://localhost:8080/",
          "height": 332
        },
        "id": "V4xqjyjjz6jt",
        "outputId": "65859993-88f8-4505-8add-2f86e0ac536f"
      },
      "source": [
        "plt.hist(tdf1['ttl_eve_min'])"
      ],
      "execution_count": 14,
      "outputs": [
        {
          "output_type": "execute_result",
          "data": {
            "text/plain": [
              "(array([  2.,  21.,  87., 339., 742., 932., 716., 375.,  98.,  21.]),\n",
              " array([  0.  ,  36.37,  72.74, 109.11, 145.48, 181.85, 218.22, 254.59,\n",
              "        290.96, 327.33, 363.7 ]),\n",
              " <a list of 10 Patch objects>)"
            ]
          },
          "metadata": {
            "tags": []
          },
          "execution_count": 14
        },
        {
          "output_type": "display_data",
          "data": {
            "image/png": "[encoded data removed]",
            "text/plain": [
              "<Figure size 432x288 with 1 Axes>"
            ]
          },
          "metadata": {
            "tags": [],
            "needs_background": "light"
          }
        }
      ]
    },
    {
      "cell_type": "code",
      "metadata": {
        "colab": {
          "base_uri": "https://localhost:8080/",
          "height": 332
        },
        "id": "C8v0Lq3hz86f",
        "outputId": "2a34ed23-91aa-469c-e10e-bf571d7f61b2"
      },
      "source": [
        "plt.hist(tdf1['ttl_nyt_min'])"
      ],
      "execution_count": 15,
      "outputs": [
        {
          "output_type": "execute_result",
          "data": {
            "text/plain": [
              "(array([ 11.,  56., 246., 646., 910., 848., 452., 132.,  26.,   6.]),\n",
              " array([ 23.2 ,  60.38,  97.56, 134.74, 171.92, 209.1 , 246.28, 283.46,\n",
              "        320.64, 357.82, 395.  ]),\n",
              " <a list of 10 Patch objects>)"
            ]
          },
          "metadata": {
            "tags": []
          },
          "execution_count": 15
        },
        {
          "output_type": "display_data",
          "data": {
            "image/png": "[encoded data removed]",
            "text/plain": [
              "<Figure size 432x288 with 1 Axes>"
            ]
          },
          "metadata": {
            "tags": [],
            "needs_background": "light"
          }
        }
      ]
    },
    {
      "cell_type": "code",
      "metadata": {
        "colab": {
          "base_uri": "https://localhost:8080/",
          "height": 332
        },
        "id": "JulYb0Iq1GLG",
        "outputId": "f4f7af03-120a-4a19-ef68-937ee34728db"
      },
      "source": [
        "plt.hist(tdf1[tdf1['Churn']==True]['acc_length'])"
      ],
      "execution_count": 17,
      "outputs": [
        {
          "output_type": "execute_result",
          "data": {
            "text/plain": [
              "(array([ 11.,  25.,  58.,  83., 114., 102.,  45.,  32.,   8.,   5.]),\n",
              " array([  1. ,  23.4,  45.8,  68.2,  90.6, 113. , 135.4, 157.8, 180.2,\n",
              "        202.6, 225. ]),\n",
              " <a list of 10 Patch objects>)"
            ]
          },
          "metadata": {
            "tags": []
          },
          "execution_count": 17
        },
        {
          "output_type": "display_data",
          "data": {
            "image/png": "[encoded data removed]",
            "text/plain": [
              "<Figure size 432x288 with 1 Axes>"
            ]
          },
          "metadata": {
            "tags": [],
            "needs_background": "light"
          }
        }
      ]
    },
    {
      "cell_type": "code",
      "metadata": {
        "colab": {
          "base_uri": "https://localhost:8080/",
          "height": 332
        },
        "id": "hHC_olHq1rFY",
        "outputId": "0873efc2-cb7b-408e-bba2-6d0fdd4aecf7"
      },
      "source": [
        "plt.hist(tdf1[tdf1['Churn']==False]['acc_length'])"
      ],
      "execution_count": 18,
      "outputs": [
        {
          "output_type": "execute_result",
          "data": {
            "text/plain": [
              "(array([ 84., 200., 433., 626., 647., 493., 244.,  95.,  23.,   5.]),\n",
              " array([  1. ,  25.2,  49.4,  73.6,  97.8, 122. , 146.2, 170.4, 194.6,\n",
              "        218.8, 243. ]),\n",
              " <a list of 10 Patch objects>)"
            ]
          },
          "metadata": {
            "tags": []
          },
          "execution_count": 18
        },
        {
          "output_type": "display_data",
          "data": {
            "image/png": "[encoded data removed]",
            "text/plain": [
              "<Figure size 432x288 with 1 Axes>"
            ]
          },
          "metadata": {
            "tags": [],
            "needs_background": "light"
          }
        }
      ]
    },
    {
      "cell_type": "code",
      "metadata": {
        "colab": {
          "base_uri": "https://localhost:8080/",
          "height": 335
        },
        "id": "qdIe04Qz3zXt",
        "outputId": "0fb66340-1fe2-451c-c0b6-6e57103a48ac"
      },
      "source": [
        "plt.hist(tdf1[tdf1['Churn']==False]['ttl_day_min'])"
      ],
      "execution_count": 19,
      "outputs": [
        {
          "output_type": "execute_result",
          "data": {
            "text/plain": [
              "(array([ 12.,  45., 116., 295., 557., 644., 671., 352., 135.,  23.]),\n",
              " array([  0.  ,  31.56,  63.12,  94.68, 126.24, 157.8 , 189.36, 220.92,\n",
              "        252.48, 284.04, 315.6 ]),\n",
              " <a list of 10 Patch objects>)"
            ]
          },
          "metadata": {
            "tags": []
          },
          "execution_count": 19
        },
        {
          "output_type": "display_data",
          "data": {
            "image/png": "[encoded data removed]",
            "text/plain": [
              "<Figure size 432x288 with 1 Axes>"
            ]
          },
          "metadata": {
            "tags": [],
            "needs_background": "light"
          }
        }
      ]
    },
    {
      "cell_type": "code",
      "metadata": {
        "colab": {
          "base_uri": "https://localhost:8080/",
          "height": 332
        },
        "id": "FUVAw9OW33JX",
        "outputId": "b2b89d45-4814-4a92-fca8-842c29557f0c"
      },
      "source": [
        "plt.hist(tdf1[tdf1['Churn']==False]['ttl_eve_min'])"
      ],
      "execution_count": 20,
      "outputs": [
        {
          "output_type": "execute_result",
          "data": {
            "text/plain": [
              "(array([  2.,  20.,  77., 293., 646., 799., 605., 309.,  84.,  15.]),\n",
              " array([  0.  ,  36.18,  72.36, 108.54, 144.72, 180.9 , 217.08, 253.26,\n",
              "        289.44, 325.62, 361.8 ]),\n",
              " <a list of 10 Patch objects>)"
            ]
          },
          "metadata": {
            "tags": []
          },
          "execution_count": 20
        },
        {
          "output_type": "display_data",
          "data": {
            "image/png": "[encoded data removed]",
            "text/plain": [
              "<Figure size 432x288 with 1 Axes>"
            ]
          },
          "metadata": {
            "tags": [],
            "needs_background": "light"
          }
        }
      ]
    },
    {
      "cell_type": "code",
      "metadata": {
        "id": "5-yFmV7m3-qo"
      },
      "source": [
        ""
      ],
      "execution_count": null,
      "outputs": []
    },
    {
      "cell_type": "code",
      "metadata": {
        "colab": {
          "base_uri": "https://localhost:8080/"
        },
        "id": "3OAmJT_NdyTi",
        "outputId": "940f5ac8-046c-47f5-ba3f-4274c90257d8"
      },
      "source": [
        "tdf1.info()"
      ],
      "execution_count": 271,
      "outputs": [
        {
          "output_type": "stream",
          "text": [
            "<class 'pandas.core.frame.DataFrame'>\n",
            "RangeIndex: 3333 entries, 0 to 3332\n",
            "Data columns (total 20 columns):\n",
            " #   Column            Non-Null Count  Dtype  \n",
            "---  ------            --------------  -----  \n",
            " 0   State             3333 non-null   object \n",
            " 1   acc_length        3333 non-null   int64  \n",
            " 2   area_code         3333 non-null   int64  \n",
            " 3   intl_plan         3333 non-null   object \n",
            " 4   voice_mail_plan   3333 non-null   object \n",
            " 5   num_vmail_msg     3333 non-null   int64  \n",
            " 6   ttl_day_min       3333 non-null   float64\n",
            " 7   ttl_day_calls     3333 non-null   int64  \n",
            " 8   ttl_day_chrg      3333 non-null   float64\n",
            " 9   ttl_eve_min       3333 non-null   float64\n",
            " 10  ttl_eve_calls     3333 non-null   int64  \n",
            " 11  ttl_eve_chrg      3333 non-null   float64\n",
            " 12  ttl_nyt_min       3333 non-null   float64\n",
            " 13  ttl_nyt_calls     3333 non-null   int64  \n",
            " 14  ttl_nyt_chrg      3333 non-null   float64\n",
            " 15  ttl_intl_min      3333 non-null   float64\n",
            " 16  ttl_intl_calls    3333 non-null   int64  \n",
            " 17  ttl_intl_chrg     3333 non-null   float64\n",
            " 18  cust_servc_calls  3333 non-null   int64  \n",
            " 19  Churn             3333 non-null   bool   \n",
            "dtypes: bool(1), float64(8), int64(8), object(3)\n",
            "memory usage: 498.1+ KB\n"
          ],
          "name": "stdout"
        }
      ]
    },
    {
      "cell_type": "code",
      "metadata": {
        "colab": {
          "base_uri": "https://localhost:8080/",
          "height": 222
        },
        "id": "Mt4mAvvzeouy",
        "outputId": "7f0660fb-56f9-4d1f-a96f-a9927abda5ec"
      },
      "source": [
        "tdf1.head()"
      ],
      "execution_count": 272,
      "outputs": [
        {
          "output_type": "execute_result",
          "data": {
            "text/html": [
              "<div>\n",
              "<style scoped>\n",
              "    .dataframe tbody tr th:only-of-type {\n",
              "        vertical-align: middle;\n",
              "    }\n",
              "\n",
              "    .dataframe tbody tr th {\n",
              "        vertical-align: top;\n",
              "    }\n",
              "\n",
              "    .dataframe thead th {\n",
              "        text-align: right;\n",
              "    }\n",
              "</style>\n",
              "<table border=\"1\" class=\"dataframe\">\n",
              "  <thead>\n",
              "    <tr style=\"text-align: right;\">\n",
              "      <th></th>\n",
              "      <th>State</th>\n",
              "      <th>acc_length</th>\n",
              "      <th>area_code</th>\n",
              "      <th>intl_plan</th>\n",
              "      <th>voice_mail_plan</th>\n",
              "      <th>num_vmail_msg</th>\n",
              "      <th>ttl_day_min</th>\n",
              "      <th>ttl_day_calls</th>\n",
              "      <th>ttl_day_chrg</th>\n",
              "      <th>ttl_eve_min</th>\n",
              "      <th>ttl_eve_calls</th>\n",
              "      <th>ttl_eve_chrg</th>\n",
              "      <th>ttl_nyt_min</th>\n",
              "      <th>ttl_nyt_calls</th>\n",
              "      <th>ttl_nyt_chrg</th>\n",
              "      <th>ttl_intl_min</th>\n",
              "      <th>ttl_intl_calls</th>\n",
              "      <th>ttl_intl_chrg</th>\n",
              "      <th>cust_servc_calls</th>\n",
              "      <th>Churn</th>\n",
              "    </tr>\n",
              "  </thead>\n",
              "  <tbody>\n",
              "    <tr>\n",
              "      <th>0</th>\n",
              "      <td>KS</td>\n",
              "      <td>128</td>\n",
              "      <td>415</td>\n",
              "      <td>No</td>\n",
              "      <td>Yes</td>\n",
              "      <td>25</td>\n",
              "      <td>265.1</td>\n",
              "      <td>110</td>\n",
              "      <td>45.07</td>\n",
              "      <td>197.4</td>\n",
              "      <td>99</td>\n",
              "      <td>16.78</td>\n",
              "      <td>244.7</td>\n",
              "      <td>91</td>\n",
              "      <td>11.01</td>\n",
              "      <td>10.0</td>\n",
              "      <td>3</td>\n",
              "      <td>2.70</td>\n",
              "      <td>1</td>\n",
              "      <td>False</td>\n",
              "    </tr>\n",
              "    <tr>\n",
              "      <th>1</th>\n",
              "      <td>OH</td>\n",
              "      <td>107</td>\n",
              "      <td>415</td>\n",
              "      <td>No</td>\n",
              "      <td>Yes</td>\n",
              "      <td>26</td>\n",
              "      <td>161.6</td>\n",
              "      <td>123</td>\n",
              "      <td>27.47</td>\n",
              "      <td>195.5</td>\n",
              "      <td>103</td>\n",
              "      <td>16.62</td>\n",
              "      <td>254.4</td>\n",
              "      <td>103</td>\n",
              "      <td>11.45</td>\n",
              "      <td>13.7</td>\n",
              "      <td>3</td>\n",
              "      <td>3.70</td>\n",
              "      <td>1</td>\n",
              "      <td>False</td>\n",
              "    </tr>\n",
              "    <tr>\n",
              "      <th>2</th>\n",
              "      <td>NJ</td>\n",
              "      <td>137</td>\n",
              "      <td>415</td>\n",
              "      <td>No</td>\n",
              "      <td>No</td>\n",
              "      <td>0</td>\n",
              "      <td>243.4</td>\n",
              "      <td>114</td>\n",
              "      <td>41.38</td>\n",
              "      <td>121.2</td>\n",
              "      <td>110</td>\n",
              "      <td>10.30</td>\n",
              "      <td>162.6</td>\n",
              "      <td>104</td>\n",
              "      <td>7.32</td>\n",
              "      <td>12.2</td>\n",
              "      <td>5</td>\n",
              "      <td>3.29</td>\n",
              "      <td>0</td>\n",
              "      <td>False</td>\n",
              "    </tr>\n",
              "    <tr>\n",
              "      <th>3</th>\n",
              "      <td>OH</td>\n",
              "      <td>84</td>\n",
              "      <td>408</td>\n",
              "      <td>Yes</td>\n",
              "      <td>No</td>\n",
              "      <td>0</td>\n",
              "      <td>299.4</td>\n",
              "      <td>71</td>\n",
              "      <td>50.90</td>\n",
              "      <td>61.9</td>\n",
              "      <td>88</td>\n",
              "      <td>5.26</td>\n",
              "      <td>196.9</td>\n",
              "      <td>89</td>\n",
              "      <td>8.86</td>\n",
              "      <td>6.6</td>\n",
              "      <td>7</td>\n",
              "      <td>1.78</td>\n",
              "      <td>2</td>\n",
              "      <td>False</td>\n",
              "    </tr>\n",
              "    <tr>\n",
              "      <th>4</th>\n",
              "      <td>OK</td>\n",
              "      <td>75</td>\n",
              "      <td>415</td>\n",
              "      <td>Yes</td>\n",
              "      <td>No</td>\n",
              "      <td>0</td>\n",
              "      <td>166.7</td>\n",
              "      <td>113</td>\n",
              "      <td>28.34</td>\n",
              "      <td>148.3</td>\n",
              "      <td>122</td>\n",
              "      <td>12.61</td>\n",
              "      <td>186.9</td>\n",
              "      <td>121</td>\n",
              "      <td>8.41</td>\n",
              "      <td>10.1</td>\n",
              "      <td>3</td>\n",
              "      <td>2.73</td>\n",
              "      <td>3</td>\n",
              "      <td>False</td>\n",
              "    </tr>\n",
              "  </tbody>\n",
              "</table>\n",
              "</div>"
            ],
            "text/plain": [
              "  State  acc_length  area_code  ... ttl_intl_chrg cust_servc_calls  Churn\n",
              "0    KS         128        415  ...          2.70                1  False\n",
              "1    OH         107        415  ...          3.70                1  False\n",
              "2    NJ         137        415  ...          3.29                0  False\n",
              "3    OH          84        408  ...          1.78                2  False\n",
              "4    OK          75        415  ...          2.73                3  False\n",
              "\n",
              "[5 rows x 20 columns]"
            ]
          },
          "metadata": {
            "tags": []
          },
          "execution_count": 272
        }
      ]
    },
    {
      "cell_type": "code",
      "metadata": {
        "id": "V-9b7N9kfo9_"
      },
      "source": [
        "tdf_CT_VT=tdf_CT[tdf_CT['voice_mail_plan']=='Yes']\n",
        "tdf_CT_VF=tdf_CT[tdf_CT['voice_mail_plan']=='No']"
      ],
      "execution_count": 274,
      "outputs": []
    },
    {
      "cell_type": "code",
      "metadata": {
        "id": "2jiRwGgTscJB"
      },
      "source": [
        "tdf_CF_VF=tdf_CF[tdf_CF['voice_mail_plan']=='No']\n",
        "tdf_CF_VT=tdf_CF[tdf_CF['voice_mail_plan']=='Yes']"
      ],
      "execution_count": 275,
      "outputs": []
    },
    {
      "cell_type": "code",
      "metadata": {
        "colab": {
          "base_uri": "https://localhost:8080/",
          "height": 314
        },
        "id": "gnifs6VXsoe_",
        "outputId": "10b87867-878c-4292-dfed-f95f8d5530ce"
      },
      "source": [
        "tdf_CF_VF.describe()"
      ],
      "execution_count": 276,
      "outputs": [
        {
          "output_type": "execute_result",
          "data": {
            "text/html": [
              "<div>\n",
              "<style scoped>\n",
              "    .dataframe tbody tr th:only-of-type {\n",
              "        vertical-align: middle;\n",
              "    }\n",
              "\n",
              "    .dataframe tbody tr th {\n",
              "        vertical-align: top;\n",
              "    }\n",
              "\n",
              "    .dataframe thead th {\n",
              "        text-align: right;\n",
              "    }\n",
              "</style>\n",
              "<table border=\"1\" class=\"dataframe\">\n",
              "  <thead>\n",
              "    <tr style=\"text-align: right;\">\n",
              "      <th></th>\n",
              "      <th>acc_length</th>\n",
              "      <th>area_code</th>\n",
              "      <th>num_vmail_msg</th>\n",
              "      <th>ttl_day_min</th>\n",
              "      <th>ttl_day_calls</th>\n",
              "      <th>ttl_day_chrg</th>\n",
              "      <th>ttl_eve_min</th>\n",
              "      <th>ttl_eve_calls</th>\n",
              "      <th>ttl_eve_chrg</th>\n",
              "      <th>ttl_nyt_min</th>\n",
              "      <th>ttl_nyt_calls</th>\n",
              "      <th>ttl_nyt_chrg</th>\n",
              "      <th>ttl_intl_min</th>\n",
              "      <th>ttl_intl_calls</th>\n",
              "      <th>ttl_intl_chrg</th>\n",
              "      <th>cust_servc_calls</th>\n",
              "    </tr>\n",
              "  </thead>\n",
              "  <tbody>\n",
              "    <tr>\n",
              "      <th>count</th>\n",
              "      <td>2008.000000</td>\n",
              "      <td>2008.000000</td>\n",
              "      <td>2008.0</td>\n",
              "      <td>2008.000000</td>\n",
              "      <td>2008.000000</td>\n",
              "      <td>2008.000000</td>\n",
              "      <td>2008.000000</td>\n",
              "      <td>2008.000000</td>\n",
              "      <td>2008.000000</td>\n",
              "      <td>2008.000000</td>\n",
              "      <td>2008.000000</td>\n",
              "      <td>2008.000000</td>\n",
              "      <td>2008.000000</td>\n",
              "      <td>2008.000000</td>\n",
              "      <td>2008.000000</td>\n",
              "      <td>2008.000000</td>\n",
              "    </tr>\n",
              "    <tr>\n",
              "      <th>mean</th>\n",
              "      <td>100.739044</td>\n",
              "      <td>437.228088</td>\n",
              "      <td>0.0</td>\n",
              "      <td>173.188147</td>\n",
              "      <td>100.416335</td>\n",
              "      <td>29.442555</td>\n",
              "      <td>197.485707</td>\n",
              "      <td>100.135956</td>\n",
              "      <td>16.786489</td>\n",
              "      <td>199.290737</td>\n",
              "      <td>99.884960</td>\n",
              "      <td>8.968167</td>\n",
              "      <td>10.164890</td>\n",
              "      <td>4.547809</td>\n",
              "      <td>2.745000</td>\n",
              "      <td>1.460657</td>\n",
              "    </tr>\n",
              "    <tr>\n",
              "      <th>std</th>\n",
              "      <td>40.186010</td>\n",
              "      <td>42.457831</td>\n",
              "      <td>0.0</td>\n",
              "      <td>48.561105</td>\n",
              "      <td>19.786981</td>\n",
              "      <td>8.255304</td>\n",
              "      <td>50.273571</td>\n",
              "      <td>20.023552</td>\n",
              "      <td>4.273271</td>\n",
              "      <td>50.759755</td>\n",
              "      <td>19.465663</td>\n",
              "      <td>2.284203</td>\n",
              "      <td>2.797746</td>\n",
              "      <td>2.426951</td>\n",
              "      <td>0.755368</td>\n",
              "      <td>1.154030</td>\n",
              "    </tr>\n",
              "    <tr>\n",
              "      <th>min</th>\n",
              "      <td>1.000000</td>\n",
              "      <td>408.000000</td>\n",
              "      <td>0.0</td>\n",
              "      <td>0.000000</td>\n",
              "      <td>0.000000</td>\n",
              "      <td>0.000000</td>\n",
              "      <td>0.000000</td>\n",
              "      <td>0.000000</td>\n",
              "      <td>0.000000</td>\n",
              "      <td>43.700000</td>\n",
              "      <td>33.000000</td>\n",
              "      <td>1.970000</td>\n",
              "      <td>0.000000</td>\n",
              "      <td>0.000000</td>\n",
              "      <td>0.000000</td>\n",
              "      <td>0.000000</td>\n",
              "    </tr>\n",
              "    <tr>\n",
              "      <th>25%</th>\n",
              "      <td>73.000000</td>\n",
              "      <td>408.000000</td>\n",
              "      <td>0.0</td>\n",
              "      <td>142.400000</td>\n",
              "      <td>87.000000</td>\n",
              "      <td>24.210000</td>\n",
              "      <td>163.600000</td>\n",
              "      <td>87.000000</td>\n",
              "      <td>13.910000</td>\n",
              "      <td>166.275000</td>\n",
              "      <td>87.000000</td>\n",
              "      <td>7.480000</td>\n",
              "      <td>8.400000</td>\n",
              "      <td>3.000000</td>\n",
              "      <td>2.270000</td>\n",
              "      <td>1.000000</td>\n",
              "    </tr>\n",
              "    <tr>\n",
              "      <th>50%</th>\n",
              "      <td>100.000000</td>\n",
              "      <td>415.000000</td>\n",
              "      <td>0.0</td>\n",
              "      <td>175.700000</td>\n",
              "      <td>100.000000</td>\n",
              "      <td>29.870000</td>\n",
              "      <td>197.500000</td>\n",
              "      <td>100.000000</td>\n",
              "      <td>16.790000</td>\n",
              "      <td>198.450000</td>\n",
              "      <td>100.000000</td>\n",
              "      <td>8.930000</td>\n",
              "      <td>10.200000</td>\n",
              "      <td>4.000000</td>\n",
              "      <td>2.750000</td>\n",
              "      <td>1.000000</td>\n",
              "    </tr>\n",
              "    <tr>\n",
              "      <th>75%</th>\n",
              "      <td>128.000000</td>\n",
              "      <td>510.000000</td>\n",
              "      <td>0.0</td>\n",
              "      <td>207.200000</td>\n",
              "      <td>114.000000</td>\n",
              "      <td>35.220000</td>\n",
              "      <td>231.125000</td>\n",
              "      <td>114.000000</td>\n",
              "      <td>19.642500</td>\n",
              "      <td>232.825000</td>\n",
              "      <td>113.000000</td>\n",
              "      <td>10.480000</td>\n",
              "      <td>12.000000</td>\n",
              "      <td>6.000000</td>\n",
              "      <td>3.240000</td>\n",
              "      <td>2.000000</td>\n",
              "    </tr>\n",
              "    <tr>\n",
              "      <th>max</th>\n",
              "      <td>243.000000</td>\n",
              "      <td>510.000000</td>\n",
              "      <td>0.0</td>\n",
              "      <td>310.400000</td>\n",
              "      <td>160.000000</td>\n",
              "      <td>52.770000</td>\n",
              "      <td>354.200000</td>\n",
              "      <td>164.000000</td>\n",
              "      <td>30.110000</td>\n",
              "      <td>395.000000</td>\n",
              "      <td>166.000000</td>\n",
              "      <td>17.770000</td>\n",
              "      <td>18.900000</td>\n",
              "      <td>19.000000</td>\n",
              "      <td>5.100000</td>\n",
              "      <td>7.000000</td>\n",
              "    </tr>\n",
              "  </tbody>\n",
              "</table>\n",
              "</div>"
            ],
            "text/plain": [
              "        acc_length    area_code  ...  ttl_intl_chrg  cust_servc_calls\n",
              "count  2008.000000  2008.000000  ...    2008.000000       2008.000000\n",
              "mean    100.739044   437.228088  ...       2.745000          1.460657\n",
              "std      40.186010    42.457831  ...       0.755368          1.154030\n",
              "min       1.000000   408.000000  ...       0.000000          0.000000\n",
              "25%      73.000000   408.000000  ...       2.270000          1.000000\n",
              "50%     100.000000   415.000000  ...       2.750000          1.000000\n",
              "75%     128.000000   510.000000  ...       3.240000          2.000000\n",
              "max     243.000000   510.000000  ...       5.100000          7.000000\n",
              "\n",
              "[8 rows x 16 columns]"
            ]
          },
          "metadata": {
            "tags": []
          },
          "execution_count": 276
        }
      ]
    },
    {
      "cell_type": "code",
      "metadata": {
        "colab": {
          "base_uri": "https://localhost:8080/",
          "height": 314
        },
        "id": "xRf9LNFjtP5G",
        "outputId": "d6caa69d-0547-4343-fe5c-0a57b6c657ae"
      },
      "source": [
        "tdf_CF_VT.describe()"
      ],
      "execution_count": 277,
      "outputs": [
        {
          "output_type": "execute_result",
          "data": {
            "text/html": [
              "<div>\n",
              "<style scoped>\n",
              "    .dataframe tbody tr th:only-of-type {\n",
              "        vertical-align: middle;\n",
              "    }\n",
              "\n",
              "    .dataframe tbody tr th {\n",
              "        vertical-align: top;\n",
              "    }\n",
              "\n",
              "    .dataframe thead th {\n",
              "        text-align: right;\n",
              "    }\n",
              "</style>\n",
              "<table border=\"1\" class=\"dataframe\">\n",
              "  <thead>\n",
              "    <tr style=\"text-align: right;\">\n",
              "      <th></th>\n",
              "      <th>acc_length</th>\n",
              "      <th>area_code</th>\n",
              "      <th>num_vmail_msg</th>\n",
              "      <th>ttl_day_min</th>\n",
              "      <th>ttl_day_calls</th>\n",
              "      <th>ttl_day_chrg</th>\n",
              "      <th>ttl_eve_min</th>\n",
              "      <th>ttl_eve_calls</th>\n",
              "      <th>ttl_eve_chrg</th>\n",
              "      <th>ttl_nyt_min</th>\n",
              "      <th>ttl_nyt_calls</th>\n",
              "      <th>ttl_nyt_chrg</th>\n",
              "      <th>ttl_intl_min</th>\n",
              "      <th>ttl_intl_calls</th>\n",
              "      <th>ttl_intl_chrg</th>\n",
              "      <th>cust_servc_calls</th>\n",
              "    </tr>\n",
              "  </thead>\n",
              "  <tbody>\n",
              "    <tr>\n",
              "      <th>count</th>\n",
              "      <td>842.000000</td>\n",
              "      <td>842.000000</td>\n",
              "      <td>842.000000</td>\n",
              "      <td>842.000000</td>\n",
              "      <td>842.000000</td>\n",
              "      <td>842.000000</td>\n",
              "      <td>842.000000</td>\n",
              "      <td>842.000000</td>\n",
              "      <td>842.000000</td>\n",
              "      <td>842.000000</td>\n",
              "      <td>842.000000</td>\n",
              "      <td>842.000000</td>\n",
              "      <td>842.000000</td>\n",
              "      <td>842.000000</td>\n",
              "      <td>842.000000</td>\n",
              "      <td>842.000000</td>\n",
              "    </tr>\n",
              "    <tr>\n",
              "      <th>mean</th>\n",
              "      <td>100.923990</td>\n",
              "      <td>436.709026</td>\n",
              "      <td>29.124703</td>\n",
              "      <td>179.915796</td>\n",
              "      <td>99.965558</td>\n",
              "      <td>30.586164</td>\n",
              "      <td>202.757838</td>\n",
              "      <td>99.806413</td>\n",
              "      <td>17.234703</td>\n",
              "      <td>202.142280</td>\n",
              "      <td>100.471496</td>\n",
              "      <td>9.096473</td>\n",
              "      <td>10.144537</td>\n",
              "      <td>4.497625</td>\n",
              "      <td>2.739596</td>\n",
              "      <td>1.423990</td>\n",
              "    </tr>\n",
              "    <tr>\n",
              "      <th>std</th>\n",
              "      <td>39.172006</td>\n",
              "      <td>41.965074</td>\n",
              "      <td>7.576789</td>\n",
              "      <td>53.583008</td>\n",
              "      <td>19.843082</td>\n",
              "      <td>9.109155</td>\n",
              "      <td>50.171390</td>\n",
              "      <td>19.812121</td>\n",
              "      <td>4.264616</td>\n",
              "      <td>51.894404</td>\n",
              "      <td>19.608105</td>\n",
              "      <td>2.335354</td>\n",
              "      <td>2.754216</td>\n",
              "      <td>2.478563</td>\n",
              "      <td>0.743602</td>\n",
              "      <td>1.187347</td>\n",
              "    </tr>\n",
              "    <tr>\n",
              "      <th>min</th>\n",
              "      <td>1.000000</td>\n",
              "      <td>408.000000</td>\n",
              "      <td>4.000000</td>\n",
              "      <td>2.600000</td>\n",
              "      <td>35.000000</td>\n",
              "      <td>0.440000</td>\n",
              "      <td>42.200000</td>\n",
              "      <td>37.000000</td>\n",
              "      <td>3.590000</td>\n",
              "      <td>23.200000</td>\n",
              "      <td>38.000000</td>\n",
              "      <td>1.040000</td>\n",
              "      <td>0.000000</td>\n",
              "      <td>0.000000</td>\n",
              "      <td>0.000000</td>\n",
              "      <td>0.000000</td>\n",
              "    </tr>\n",
              "    <tr>\n",
              "      <th>25%</th>\n",
              "      <td>74.000000</td>\n",
              "      <td>415.000000</td>\n",
              "      <td>24.000000</td>\n",
              "      <td>143.500000</td>\n",
              "      <td>87.000000</td>\n",
              "      <td>24.400000</td>\n",
              "      <td>167.300000</td>\n",
              "      <td>87.000000</td>\n",
              "      <td>14.220000</td>\n",
              "      <td>165.700000</td>\n",
              "      <td>87.000000</td>\n",
              "      <td>7.460000</td>\n",
              "      <td>8.300000</td>\n",
              "      <td>3.000000</td>\n",
              "      <td>2.240000</td>\n",
              "      <td>1.000000</td>\n",
              "    </tr>\n",
              "    <tr>\n",
              "      <th>50%</th>\n",
              "      <td>101.000000</td>\n",
              "      <td>415.000000</td>\n",
              "      <td>29.000000</td>\n",
              "      <td>182.100000</td>\n",
              "      <td>101.000000</td>\n",
              "      <td>30.960000</td>\n",
              "      <td>203.850000</td>\n",
              "      <td>100.000000</td>\n",
              "      <td>17.325000</td>\n",
              "      <td>203.500000</td>\n",
              "      <td>101.000000</td>\n",
              "      <td>9.160000</td>\n",
              "      <td>10.200000</td>\n",
              "      <td>4.000000</td>\n",
              "      <td>2.750000</td>\n",
              "      <td>1.000000</td>\n",
              "    </tr>\n",
              "    <tr>\n",
              "      <th>75%</th>\n",
              "      <td>127.000000</td>\n",
              "      <td>415.000000</td>\n",
              "      <td>34.000000</td>\n",
              "      <td>216.750000</td>\n",
              "      <td>113.000000</td>\n",
              "      <td>36.850000</td>\n",
              "      <td>236.575000</td>\n",
              "      <td>113.000000</td>\n",
              "      <td>20.107500</td>\n",
              "      <td>239.850000</td>\n",
              "      <td>113.750000</td>\n",
              "      <td>10.797500</td>\n",
              "      <td>12.000000</td>\n",
              "      <td>6.000000</td>\n",
              "      <td>3.240000</td>\n",
              "      <td>2.000000</td>\n",
              "    </tr>\n",
              "    <tr>\n",
              "      <th>max</th>\n",
              "      <td>221.000000</td>\n",
              "      <td>510.000000</td>\n",
              "      <td>51.000000</td>\n",
              "      <td>315.600000</td>\n",
              "      <td>163.000000</td>\n",
              "      <td>53.650000</td>\n",
              "      <td>361.800000</td>\n",
              "      <td>170.000000</td>\n",
              "      <td>30.750000</td>\n",
              "      <td>381.900000</td>\n",
              "      <td>175.000000</td>\n",
              "      <td>17.190000</td>\n",
              "      <td>17.600000</td>\n",
              "      <td>18.000000</td>\n",
              "      <td>4.750000</td>\n",
              "      <td>8.000000</td>\n",
              "    </tr>\n",
              "  </tbody>\n",
              "</table>\n",
              "</div>"
            ],
            "text/plain": [
              "       acc_length   area_code  ...  ttl_intl_chrg  cust_servc_calls\n",
              "count  842.000000  842.000000  ...     842.000000        842.000000\n",
              "mean   100.923990  436.709026  ...       2.739596          1.423990\n",
              "std     39.172006   41.965074  ...       0.743602          1.187347\n",
              "min      1.000000  408.000000  ...       0.000000          0.000000\n",
              "25%     74.000000  415.000000  ...       2.240000          1.000000\n",
              "50%    101.000000  415.000000  ...       2.750000          1.000000\n",
              "75%    127.000000  415.000000  ...       3.240000          2.000000\n",
              "max    221.000000  510.000000  ...       4.750000          8.000000\n",
              "\n",
              "[8 rows x 16 columns]"
            ]
          },
          "metadata": {
            "tags": []
          },
          "execution_count": 277
        }
      ]
    },
    {
      "cell_type": "code",
      "metadata": {
        "colab": {
          "base_uri": "https://localhost:8080/",
          "height": 314
        },
        "id": "e1y1VXE7u90m",
        "outputId": "cbc8625b-02f7-4737-e9d6-b5f58b0d5bb3"
      },
      "source": [
        "tdf_CT_VF.describe()"
      ],
      "execution_count": 278,
      "outputs": [
        {
          "output_type": "execute_result",
          "data": {
            "text/html": [
              "<div>\n",
              "<style scoped>\n",
              "    .dataframe tbody tr th:only-of-type {\n",
              "        vertical-align: middle;\n",
              "    }\n",
              "\n",
              "    .dataframe tbody tr th {\n",
              "        vertical-align: top;\n",
              "    }\n",
              "\n",
              "    .dataframe thead th {\n",
              "        text-align: right;\n",
              "    }\n",
              "</style>\n",
              "<table border=\"1\" class=\"dataframe\">\n",
              "  <thead>\n",
              "    <tr style=\"text-align: right;\">\n",
              "      <th></th>\n",
              "      <th>acc_length</th>\n",
              "      <th>area_code</th>\n",
              "      <th>num_vmail_msg</th>\n",
              "      <th>ttl_day_min</th>\n",
              "      <th>ttl_day_calls</th>\n",
              "      <th>ttl_day_chrg</th>\n",
              "      <th>ttl_eve_min</th>\n",
              "      <th>ttl_eve_calls</th>\n",
              "      <th>ttl_eve_chrg</th>\n",
              "      <th>ttl_nyt_min</th>\n",
              "      <th>ttl_nyt_calls</th>\n",
              "      <th>ttl_nyt_chrg</th>\n",
              "      <th>ttl_intl_min</th>\n",
              "      <th>ttl_intl_calls</th>\n",
              "      <th>ttl_intl_chrg</th>\n",
              "      <th>cust_servc_calls</th>\n",
              "    </tr>\n",
              "  </thead>\n",
              "  <tbody>\n",
              "    <tr>\n",
              "      <th>count</th>\n",
              "      <td>403.000000</td>\n",
              "      <td>403.000000</td>\n",
              "      <td>403.0</td>\n",
              "      <td>403.000000</td>\n",
              "      <td>403.000000</td>\n",
              "      <td>403.000000</td>\n",
              "      <td>403.000000</td>\n",
              "      <td>403.000000</td>\n",
              "      <td>403.000000</td>\n",
              "      <td>403.000000</td>\n",
              "      <td>403.000000</td>\n",
              "      <td>403.000000</td>\n",
              "      <td>403.000000</td>\n",
              "      <td>403.000000</td>\n",
              "      <td>403.000000</td>\n",
              "      <td>403.000000</td>\n",
              "    </tr>\n",
              "    <tr>\n",
              "      <th>mean</th>\n",
              "      <td>102.258065</td>\n",
              "      <td>437.071960</td>\n",
              "      <td>0.0</td>\n",
              "      <td>212.934739</td>\n",
              "      <td>101.354839</td>\n",
              "      <td>36.199355</td>\n",
              "      <td>214.351117</td>\n",
              "      <td>100.481390</td>\n",
              "      <td>18.219876</td>\n",
              "      <td>207.613896</td>\n",
              "      <td>100.091811</td>\n",
              "      <td>9.342829</td>\n",
              "      <td>10.611663</td>\n",
              "      <td>4.069479</td>\n",
              "      <td>2.865707</td>\n",
              "      <td>2.158809</td>\n",
              "    </tr>\n",
              "    <tr>\n",
              "      <th>std</th>\n",
              "      <td>40.442981</td>\n",
              "      <td>42.323526</td>\n",
              "      <td>0.0</td>\n",
              "      <td>70.574627</td>\n",
              "      <td>22.166503</td>\n",
              "      <td>11.997781</td>\n",
              "      <td>51.870759</td>\n",
              "      <td>19.738755</td>\n",
              "      <td>4.408785</td>\n",
              "      <td>46.636824</td>\n",
              "      <td>20.107646</td>\n",
              "      <td>2.098766</td>\n",
              "      <td>2.718947</td>\n",
              "      <td>2.436280</td>\n",
              "      <td>0.734194</td>\n",
              "      <td>1.813326</td>\n",
              "    </tr>\n",
              "    <tr>\n",
              "      <th>min</th>\n",
              "      <td>1.000000</td>\n",
              "      <td>408.000000</td>\n",
              "      <td>0.0</td>\n",
              "      <td>0.000000</td>\n",
              "      <td>0.000000</td>\n",
              "      <td>0.000000</td>\n",
              "      <td>70.900000</td>\n",
              "      <td>48.000000</td>\n",
              "      <td>6.030000</td>\n",
              "      <td>47.400000</td>\n",
              "      <td>51.000000</td>\n",
              "      <td>2.130000</td>\n",
              "      <td>2.000000</td>\n",
              "      <td>1.000000</td>\n",
              "      <td>0.540000</td>\n",
              "      <td>0.000000</td>\n",
              "    </tr>\n",
              "    <tr>\n",
              "      <th>25%</th>\n",
              "      <td>75.500000</td>\n",
              "      <td>415.000000</td>\n",
              "      <td>0.0</td>\n",
              "      <td>154.450000</td>\n",
              "      <td>87.000000</td>\n",
              "      <td>26.260000</td>\n",
              "      <td>179.100000</td>\n",
              "      <td>87.000000</td>\n",
              "      <td>15.225000</td>\n",
              "      <td>172.950000</td>\n",
              "      <td>85.500000</td>\n",
              "      <td>7.785000</td>\n",
              "      <td>8.800000</td>\n",
              "      <td>2.000000</td>\n",
              "      <td>2.380000</td>\n",
              "      <td>1.000000</td>\n",
              "    </tr>\n",
              "    <tr>\n",
              "      <th>50%</th>\n",
              "      <td>101.000000</td>\n",
              "      <td>415.000000</td>\n",
              "      <td>0.0</td>\n",
              "      <td>228.600000</td>\n",
              "      <td>103.000000</td>\n",
              "      <td>38.860000</td>\n",
              "      <td>214.100000</td>\n",
              "      <td>101.000000</td>\n",
              "      <td>18.200000</td>\n",
              "      <td>208.000000</td>\n",
              "      <td>100.000000</td>\n",
              "      <td>9.360000</td>\n",
              "      <td>10.500000</td>\n",
              "      <td>3.000000</td>\n",
              "      <td>2.840000</td>\n",
              "      <td>2.000000</td>\n",
              "    </tr>\n",
              "    <tr>\n",
              "      <th>75%</th>\n",
              "      <td>126.500000</td>\n",
              "      <td>462.500000</td>\n",
              "      <td>0.0</td>\n",
              "      <td>269.750000</td>\n",
              "      <td>117.000000</td>\n",
              "      <td>45.860000</td>\n",
              "      <td>250.950000</td>\n",
              "      <td>113.500000</td>\n",
              "      <td>21.330000</td>\n",
              "      <td>241.200000</td>\n",
              "      <td>115.000000</td>\n",
              "      <td>10.855000</td>\n",
              "      <td>12.500000</td>\n",
              "      <td>5.000000</td>\n",
              "      <td>3.380000</td>\n",
              "      <td>4.000000</td>\n",
              "    </tr>\n",
              "    <tr>\n",
              "      <th>max</th>\n",
              "      <td>225.000000</td>\n",
              "      <td>510.000000</td>\n",
              "      <td>0.0</td>\n",
              "      <td>350.800000</td>\n",
              "      <td>165.000000</td>\n",
              "      <td>59.640000</td>\n",
              "      <td>363.700000</td>\n",
              "      <td>168.000000</td>\n",
              "      <td>30.910000</td>\n",
              "      <td>354.900000</td>\n",
              "      <td>158.000000</td>\n",
              "      <td>15.970000</td>\n",
              "      <td>18.300000</td>\n",
              "      <td>15.000000</td>\n",
              "      <td>4.940000</td>\n",
              "      <td>9.000000</td>\n",
              "    </tr>\n",
              "  </tbody>\n",
              "</table>\n",
              "</div>"
            ],
            "text/plain": [
              "       acc_length   area_code  ...  ttl_intl_chrg  cust_servc_calls\n",
              "count  403.000000  403.000000  ...     403.000000        403.000000\n",
              "mean   102.258065  437.071960  ...       2.865707          2.158809\n",
              "std     40.442981   42.323526  ...       0.734194          1.813326\n",
              "min      1.000000  408.000000  ...       0.540000          0.000000\n",
              "25%     75.500000  415.000000  ...       2.380000          1.000000\n",
              "50%    101.000000  415.000000  ...       2.840000          2.000000\n",
              "75%    126.500000  462.500000  ...       3.380000          4.000000\n",
              "max    225.000000  510.000000  ...       4.940000          9.000000\n",
              "\n",
              "[8 rows x 16 columns]"
            ]
          },
          "metadata": {
            "tags": []
          },
          "execution_count": 278
        }
      ]
    },
    {
      "cell_type": "code",
      "metadata": {
        "colab": {
          "base_uri": "https://localhost:8080/"
        },
        "id": "NObT6ZhWvBTE",
        "outputId": "1852ba92-b172-44fd-ffac-312d2301f36e"
      },
      "source": [
        "tdf_CT_VT.count"
      ],
      "execution_count": 280,
      "outputs": [
        {
          "output_type": "execute_result",
          "data": {
            "text/plain": [
              "acc_length          104.712500\n",
              "area_code           441.575000\n",
              "num_vmail_msg        30.887500\n",
              "ttl_day_min         176.585000\n",
              "ttl_day_calls       101.237500\n",
              "ttl_day_chrg         30.020375\n",
              "ttl_eve_min         202.632500\n",
              "ttl_eve_calls       100.962500\n",
              "ttl_eve_chrg         17.224250\n",
              "ttl_nyt_min         193.231250\n",
              "ttl_nyt_calls       101.950000\n",
              "ttl_nyt_chrg          8.695000\n",
              "ttl_intl_min         11.145000\n",
              "ttl_intl_calls        4.637500\n",
              "ttl_intl_chrg         3.009625\n",
              "cust_servc_calls      2.587500\n",
              "Churn                 1.000000\n",
              "dtype: float64"
            ]
          },
          "metadata": {
            "tags": []
          },
          "execution_count": 280
        }
      ]
    },
    {
      "cell_type": "code",
      "metadata": {
        "id": "p-n5G7iDtUyn"
      },
      "source": [
        "for CHurn false \n",
        "                        acc_length\tarea_code\t  num_vmail_msg\t  ttl_day_min\t ttl_day_calls\tttl_day_chrg\tttl_eve_min\t ttl_eve_calls\tttl_eve_chrg\tttl_nyt_min\tttl_nyt_calls\tttl_nyt_chrg\tttl_intl_min\tttl_intl_calls\tttl_intl_chrg\tcust_servc_calls\n",
        "vmail plan false --mean\t100.739044\t437.228088\t0.0\t            173.188147\t 100.416335\t    29.442555\t    197.485707\t 100.135956\t    16.786489\t    199.290737\t99.884960\t     8.968167\t    10.164890\t    4.547809\t       2.745000\t      1.460657\n",
        "vmail plan true  --mean\t100.923990\t436.709026\t29.124703\t      179.915796\t 99.965558\t    30.586164\t    202.757838\t 99.806413\t    17.234703\t    202.142280\t100.471496\t   9.096473\t    10.144537\t    4.497625\t       2.739596\t      1.423990\n",
        "\n",
        "for Churn true\n",
        "vmail plan false --mean\t102.258065\t437.071960\t0.0\t            212.934739\t 101.354839\t     36.199355\t  214.351117\t 100.481390\t    18.219876\t    207.613896\t 100.091811\t   9.342829\t     10.611663\t  4.069479        \t2.865707\t     2.158809\n",
        "vmail plan true  --mean\t104.712500\t441.575000\t30.887500     \t176.58500\t   101.237500\t     30.020375\t  202.632500\t 100.962500\t    17.224250\t    193.231250\t 101.950000\t   8.695000\t     11.145000\t  4.637500\t        3.009625\t     2.587500\n"
      ],
      "execution_count": null,
      "outputs": []
    },
    {
      "cell_type": "markdown",
      "metadata": {
        "id": "nWgd0eeEwHga"
      },
      "source": [
        "# **Observation from above data:-**\n",
        "\n",
        "1. 30% of loyal customer opting for vmail plan\n",
        "\n",
        "   16% of churning customer opting vmail plan\n",
        "\n",
        "2. Churning customer having vmail plan has same avg day call time as for loyal customer , but churning customer without vmail plan has more day call time \n",
        "\n",
        "3. customer who are churning and not having vmail plans, paying more for day time calls \n",
        "\n",
        "4. **International calls** vmail plan user pay more than other and they have more call time then other\n",
        "\n",
        "5. customer services are not good and not upto standards\n"
      ]
    },
    {
      "cell_type": "code",
      "metadata": {
        "id": "34v5NA40vidi"
      },
      "source": [
        "0.loyal customer -86%  churning cust.-14%\n",
        "1.State wise churning percentage\n",
        "2.state wise distribution of customer service calls , people who are getting more service calls are leaving\n",
        "3.percentage of people having international plans for true churners is higher\n",
        "4.loyal customer prefer voice mail plan more than churning customer\n",
        "5.vmail message vs churning \n",
        "6."
      ],
      "execution_count": null,
      "outputs": []
    }
  ]
}